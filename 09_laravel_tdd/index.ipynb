{
 "cells": [
  {
   "cell_type": "markdown",
   "metadata": {},
   "source": [
    "# PHP"
   ]
  },
  {
   "cell_type": "markdown",
   "metadata": {},
   "source": [
    "## 9. Laravel TDD"
   ]
  },
  {
   "cell_type": "markdown",
   "metadata": {},
   "source": [
    "This project was started from the solution of the previous exercise.\n",
    "\n",
    "#### Laravel Breeze\n",
    "\n",
    "The [Laravel Breeze](https://laravel.com/docs/11.x/starter-kits#laravel-breeze) package was installed using the ```composer require laravel/breeze --dev``` and ```php artisan breeze:install``` commands. This package enables user registration and logging into the application.\n",
    "\n",
    "An example user is added through the [database/seeders/UsersSeeder.php](/edit/09_laravel_tdd/project/database/seeders/UsersSeeder.php) class generated using the ```php artisan make:seeder UsersSeeder``` command. The database seeding is done during the execution of the ```php artisan db:seed``` command before the database dump.\n",
    "\n",
    "The logging-in is tested in the [tests_codeception/Acceptance/Test02_LoginCest.php](/edit/09_laravel_tdd/project/tests_codeception/Acceptance/Test02_LoginCest.php) test.\n",
    "\n",
    "Extensive testing is also done when executing the ```php artisan test``` command because the ```php artisan breeze:install``` command added many additional tests.\n",
    "\n",
    "Because there are many tests, it was possible to safely clean up PHPStan issues in the code added by ```php artisan breeze:install``` command.\n",
    "\n",
    "#### Laravel Markdown\n",
    "\n",
    "The next change done in the project was the use of the [graham-campbell/markdown](https://packagist.org/packages/graham-campbell/markdown) package, which adds support for Markdown in Laravel.\n",
    "\n",
    "The package was installed using the ```composer require graham-campbell/markdown``` command.\n",
    "The [tests_codeception/Acceptance/Test01_CommentsCest.php](/edit/09_laravel_tdd/project/tests_codeception/Acceptance/Test01_CommentsCest.php) test was extended to test for adding some **bold** text. The [resources/views/comment/show.blade.php](/edit/09_laravel_tdd/project/resources/views/comment/show.blade.php) view was updated to render the Markdown.\n",
    "\n",
    "#### Tailwind CSS\n",
    "\n",
    "The [tailwindcss](https://tailwindcss.com/) is used to style the front end. Some examples of how to build components in HTML with CSS can be found on, e.g., [flowbite](https://flowbite.com/) site.\n",
    "\n",
    "However, I am not an expert here, so there might be much better resources ;)"
   ]
  },
  {
   "cell_type": "markdown",
   "metadata": {},
   "source": [
    "Start database:"
   ]
  },
  {
   "cell_type": "code",
   "execution_count": 1,
   "metadata": {},
   "outputs": [
    {
     "name": "stdout",
     "output_type": "stream",
     "text": [
      "docker: Error response from daemon: Conflict. The container name \"/mysql\" is already in use by container \"443b57aa5dc07455ca034dd3a8c745591bec67ca22b3d8907f22edf185a92a7d\". You have to remove (or rename) that container to be able to reuse that name.\n",
      "See 'docker run --help'.\n"
     ]
    }
   ],
   "source": [
    "! docker run --name=mysql --net=host --rm --env MYSQL_ROOT_PASSWORD=root123 --env MYSQL_ROOT_HOST=% --env MYSQL_DATABASE=test --env MYSQL_USER=test --env MYSQL_PASSWORD=test123 -d mysql/mysql-server:8.0"
   ]
  },
  {
   "cell_type": "code",
   "execution_count": 2,
   "metadata": {},
   "outputs": [
    {
     "name": "stdout",
     "output_type": "stream",
     "text": [
      "Done.\n"
     ]
    }
   ],
   "source": [
    "! while ! timeout 1 bash -c \"echo > /dev/tcp/localhost/3306\" 2> /dev/null; do sleep 1; done; echo \"Done.\";"
   ]
  },
  {
   "cell_type": "markdown",
   "metadata": {},
   "source": [
    "Install the CPD checker globally:"
   ]
  },
  {
   "cell_type": "code",
   "execution_count": 3,
   "metadata": {},
   "outputs": [
    {
     "name": "stdout",
     "output_type": "stream",
     "text": [
      "\u001b[32mChanged current directory to /home/student/.composer\u001b[39m\n",
      "\u001b[32m./composer.json has been updated\u001b[39m\n",
      "\u001b[32mRunning composer update sebastian/phpcpd\u001b[39m\n",
      "\u001b[32mLoading composer repositories with package information\u001b[39m\n",
      "\u001b[32mUpdating dependencies\u001b[39m\n",
      "Nothing to modify in lock file\n",
      "\u001b[32mInstalling dependencies from lock file (including require-dev)\u001b[39m\n",
      "Nothing to install, update or remove\n",
      "\u001b[30;43mPackage sebastian/phpcpd is abandoned, you should avoid using it. No replacement was suggested.\u001b[39;49m\n",
      "\u001b[32mGenerating autoload files\u001b[39m\n",
      "\u001b[32m5 packages you are using are looking for funding.\u001b[39m\n",
      "\u001b[32mUse the `composer fund` command to find out more!\u001b[39m\n",
      "\u001b[32mNo security vulnerability advisories found.\u001b[39m\n"
     ]
    }
   ],
   "source": [
    "! composer global require sebastian/phpcpd 6.0.3"
   ]
  },
  {
   "cell_type": "markdown",
   "metadata": {},
   "source": [
    "You can test your solution using included tests:"
   ]
  },
  {
   "cell_type": "code",
   "execution_count": 4,
   "metadata": {},
   "outputs": [
    {
     "name": "stdout",
     "output_type": "stream",
     "text": [
      "/home/student/php_2024_sportowa_aplikacja/09_laravel_tdd/project\n"
     ]
    }
   ],
   "source": [
    "%cd project"
   ]
  },
  {
   "cell_type": "code",
   "execution_count": 5,
   "metadata": {},
   "outputs": [
    {
     "name": "stdout",
     "output_type": "stream",
     "text": [
      "\u001b[32mInstalling dependencies from lock file (including require-dev)\u001b[39m\n",
      "\u001b[32mVerifying lock file contents can be installed on current platform.\u001b[39m\n",
      "Nothing to install, update or remove\n",
      "\u001b[32mGenerating optimized autoload files\u001b[39m\n",
      "> Illuminate\\Foundation\\ComposerScripts::postAutoloadDump\n",
      "> @php artisan package:discover --ansi\n",
      "\n",
      "  \u001b[37;44m INFO \u001b[39;49m Discovering packages.  \n",
      "\n",
      "  graham-campbell/markdown \u001b[90m.\u001b[39m\u001b[90m.\u001b[39m\u001b[90m.\u001b[39m\u001b[90m.\u001b[39m\u001b[90m.\u001b[39m\u001b[90m.\u001b[39m\u001b[90m.\u001b[39m\u001b[90m.\u001b[39m\u001b[90m.\u001b[39m\u001b[90m.\u001b[39m\u001b[90m.\u001b[39m\u001b[90m.\u001b[39m\u001b[90m.\u001b[39m\u001b[90m.\u001b[39m\u001b[90m.\u001b[39m\u001b[90m.\u001b[39m\u001b[90m.\u001b[39m\u001b[90m.\u001b[39m\u001b[90m.\u001b[39m\u001b[90m.\u001b[39m\u001b[90m.\u001b[39m\u001b[90m.\u001b[39m\u001b[90m.\u001b[39m\u001b[90m.\u001b[39m\u001b[90m.\u001b[39m\u001b[90m.\u001b[39m\u001b[90m.\u001b[39m\u001b[90m.\u001b[39m\u001b[90m.\u001b[39m\u001b[90m.\u001b[39m\u001b[90m.\u001b[39m\u001b[90m.\u001b[39m\u001b[90m.\u001b[39m\u001b[90m.\u001b[39m\u001b[90m.\u001b[39m\u001b[90m.\u001b[39m\u001b[90m.\u001b[39m\u001b[90m.\u001b[39m\u001b[90m.\u001b[39m\u001b[90m.\u001b[39m\u001b[90m.\u001b[39m\u001b[90m.\u001b[39m\u001b[90m.\u001b[39m\u001b[90m.\u001b[39m\u001b[90m.\u001b[39m\u001b[90m.\u001b[39m \u001b[32;1mDONE\u001b[39;22m\n",
      "  laravel/breeze \u001b[90m.\u001b[39m\u001b[90m.\u001b[39m\u001b[90m.\u001b[39m\u001b[90m.\u001b[39m\u001b[90m.\u001b[39m\u001b[90m.\u001b[39m\u001b[90m.\u001b[39m\u001b[90m.\u001b[39m\u001b[90m.\u001b[39m\u001b[90m.\u001b[39m\u001b[90m.\u001b[39m\u001b[90m.\u001b[39m\u001b[90m.\u001b[39m\u001b[90m.\u001b[39m\u001b[90m.\u001b[39m\u001b[90m.\u001b[39m\u001b[90m.\u001b[39m\u001b[90m.\u001b[39m\u001b[90m.\u001b[39m\u001b[90m.\u001b[39m\u001b[90m.\u001b[39m\u001b[90m.\u001b[39m\u001b[90m.\u001b[39m\u001b[90m.\u001b[39m\u001b[90m.\u001b[39m\u001b[90m.\u001b[39m\u001b[90m.\u001b[39m\u001b[90m.\u001b[39m\u001b[90m.\u001b[39m\u001b[90m.\u001b[39m\u001b[90m.\u001b[39m\u001b[90m.\u001b[39m\u001b[90m.\u001b[39m\u001b[90m.\u001b[39m\u001b[90m.\u001b[39m\u001b[90m.\u001b[39m\u001b[90m.\u001b[39m\u001b[90m.\u001b[39m\u001b[90m.\u001b[39m\u001b[90m.\u001b[39m\u001b[90m.\u001b[39m\u001b[90m.\u001b[39m\u001b[90m.\u001b[39m\u001b[90m.\u001b[39m\u001b[90m.\u001b[39m\u001b[90m.\u001b[39m\u001b[90m.\u001b[39m\u001b[90m.\u001b[39m\u001b[90m.\u001b[39m\u001b[90m.\u001b[39m\u001b[90m.\u001b[39m\u001b[90m.\u001b[39m\u001b[90m.\u001b[39m\u001b[90m.\u001b[39m\u001b[90m.\u001b[39m\u001b[90m.\u001b[39m \u001b[32;1mDONE\u001b[39;22m\n",
      "  laravel/sail \u001b[90m.\u001b[39m\u001b[90m.\u001b[39m\u001b[90m.\u001b[39m\u001b[90m.\u001b[39m\u001b[90m.\u001b[39m\u001b[90m.\u001b[39m\u001b[90m.\u001b[39m\u001b[90m.\u001b[39m\u001b[90m.\u001b[39m\u001b[90m.\u001b[39m\u001b[90m.\u001b[39m\u001b[90m.\u001b[39m\u001b[90m.\u001b[39m\u001b[90m.\u001b[39m\u001b[90m.\u001b[39m\u001b[90m.\u001b[39m\u001b[90m.\u001b[39m\u001b[90m.\u001b[39m\u001b[90m.\u001b[39m\u001b[90m.\u001b[39m\u001b[90m.\u001b[39m\u001b[90m.\u001b[39m\u001b[90m.\u001b[39m\u001b[90m.\u001b[39m\u001b[90m.\u001b[39m\u001b[90m.\u001b[39m\u001b[90m.\u001b[39m\u001b[90m.\u001b[39m\u001b[90m.\u001b[39m\u001b[90m.\u001b[39m\u001b[90m.\u001b[39m\u001b[90m.\u001b[39m\u001b[90m.\u001b[39m\u001b[90m.\u001b[39m\u001b[90m.\u001b[39m\u001b[90m.\u001b[39m\u001b[90m.\u001b[39m\u001b[90m.\u001b[39m\u001b[90m.\u001b[39m\u001b[90m.\u001b[39m\u001b[90m.\u001b[39m\u001b[90m.\u001b[39m\u001b[90m.\u001b[39m\u001b[90m.\u001b[39m\u001b[90m.\u001b[39m\u001b[90m.\u001b[39m\u001b[90m.\u001b[39m\u001b[90m.\u001b[39m\u001b[90m.\u001b[39m\u001b[90m.\u001b[39m\u001b[90m.\u001b[39m\u001b[90m.\u001b[39m\u001b[90m.\u001b[39m\u001b[90m.\u001b[39m\u001b[90m.\u001b[39m\u001b[90m.\u001b[39m\u001b[90m.\u001b[39m\u001b[90m.\u001b[39m \u001b[32;1mDONE\u001b[39;22m\n",
      "  laravel/tinker \u001b[90m.\u001b[39m\u001b[90m.\u001b[39m\u001b[90m.\u001b[39m\u001b[90m.\u001b[39m\u001b[90m.\u001b[39m\u001b[90m.\u001b[39m\u001b[90m.\u001b[39m\u001b[90m.\u001b[39m\u001b[90m.\u001b[39m\u001b[90m.\u001b[39m\u001b[90m.\u001b[39m\u001b[90m.\u001b[39m\u001b[90m.\u001b[39m\u001b[90m.\u001b[39m\u001b[90m.\u001b[39m\u001b[90m.\u001b[39m\u001b[90m.\u001b[39m\u001b[90m.\u001b[39m\u001b[90m.\u001b[39m\u001b[90m.\u001b[39m\u001b[90m.\u001b[39m\u001b[90m.\u001b[39m\u001b[90m.\u001b[39m\u001b[90m.\u001b[39m\u001b[90m.\u001b[39m\u001b[90m.\u001b[39m\u001b[90m.\u001b[39m\u001b[90m.\u001b[39m\u001b[90m.\u001b[39m\u001b[90m.\u001b[39m\u001b[90m.\u001b[39m\u001b[90m.\u001b[39m\u001b[90m.\u001b[39m\u001b[90m.\u001b[39m\u001b[90m.\u001b[39m\u001b[90m.\u001b[39m\u001b[90m.\u001b[39m\u001b[90m.\u001b[39m\u001b[90m.\u001b[39m\u001b[90m.\u001b[39m\u001b[90m.\u001b[39m\u001b[90m.\u001b[39m\u001b[90m.\u001b[39m\u001b[90m.\u001b[39m\u001b[90m.\u001b[39m\u001b[90m.\u001b[39m\u001b[90m.\u001b[39m\u001b[90m.\u001b[39m\u001b[90m.\u001b[39m\u001b[90m.\u001b[39m\u001b[90m.\u001b[39m\u001b[90m.\u001b[39m\u001b[90m.\u001b[39m\u001b[90m.\u001b[39m\u001b[90m.\u001b[39m\u001b[90m.\u001b[39m \u001b[32;1mDONE\u001b[39;22m\n",
      "  nesbot/carbon \u001b[90m.\u001b[39m\u001b[90m.\u001b[39m\u001b[90m.\u001b[39m\u001b[90m.\u001b[39m\u001b[90m.\u001b[39m\u001b[90m.\u001b[39m\u001b[90m.\u001b[39m\u001b[90m.\u001b[39m\u001b[90m.\u001b[39m\u001b[90m.\u001b[39m\u001b[90m.\u001b[39m\u001b[90m.\u001b[39m\u001b[90m.\u001b[39m\u001b[90m.\u001b[39m\u001b[90m.\u001b[39m\u001b[90m.\u001b[39m\u001b[90m.\u001b[39m\u001b[90m.\u001b[39m\u001b[90m.\u001b[39m\u001b[90m.\u001b[39m\u001b[90m.\u001b[39m\u001b[90m.\u001b[39m\u001b[90m.\u001b[39m\u001b[90m.\u001b[39m\u001b[90m.\u001b[39m\u001b[90m.\u001b[39m\u001b[90m.\u001b[39m\u001b[90m.\u001b[39m\u001b[90m.\u001b[39m\u001b[90m.\u001b[39m\u001b[90m.\u001b[39m\u001b[90m.\u001b[39m\u001b[90m.\u001b[39m\u001b[90m.\u001b[39m\u001b[90m.\u001b[39m\u001b[90m.\u001b[39m\u001b[90m.\u001b[39m\u001b[90m.\u001b[39m\u001b[90m.\u001b[39m\u001b[90m.\u001b[39m\u001b[90m.\u001b[39m\u001b[90m.\u001b[39m\u001b[90m.\u001b[39m\u001b[90m.\u001b[39m\u001b[90m.\u001b[39m\u001b[90m.\u001b[39m\u001b[90m.\u001b[39m\u001b[90m.\u001b[39m\u001b[90m.\u001b[39m\u001b[90m.\u001b[39m\u001b[90m.\u001b[39m\u001b[90m.\u001b[39m\u001b[90m.\u001b[39m\u001b[90m.\u001b[39m\u001b[90m.\u001b[39m\u001b[90m.\u001b[39m\u001b[90m.\u001b[39m \u001b[32;1mDONE\u001b[39;22m\n",
      "  nunomaduro/collision \u001b[90m.\u001b[39m\u001b[90m.\u001b[39m\u001b[90m.\u001b[39m\u001b[90m.\u001b[39m\u001b[90m.\u001b[39m\u001b[90m.\u001b[39m\u001b[90m.\u001b[39m\u001b[90m.\u001b[39m\u001b[90m.\u001b[39m\u001b[90m.\u001b[39m\u001b[90m.\u001b[39m\u001b[90m.\u001b[39m\u001b[90m.\u001b[39m\u001b[90m.\u001b[39m\u001b[90m.\u001b[39m\u001b[90m.\u001b[39m\u001b[90m.\u001b[39m\u001b[90m.\u001b[39m\u001b[90m.\u001b[39m\u001b[90m.\u001b[39m\u001b[90m.\u001b[39m\u001b[90m.\u001b[39m\u001b[90m.\u001b[39m\u001b[90m.\u001b[39m\u001b[90m.\u001b[39m\u001b[90m.\u001b[39m\u001b[90m.\u001b[39m\u001b[90m.\u001b[39m\u001b[90m.\u001b[39m\u001b[90m.\u001b[39m\u001b[90m.\u001b[39m\u001b[90m.\u001b[39m\u001b[90m.\u001b[39m\u001b[90m.\u001b[39m\u001b[90m.\u001b[39m\u001b[90m.\u001b[39m\u001b[90m.\u001b[39m\u001b[90m.\u001b[39m\u001b[90m.\u001b[39m\u001b[90m.\u001b[39m\u001b[90m.\u001b[39m\u001b[90m.\u001b[39m\u001b[90m.\u001b[39m\u001b[90m.\u001b[39m\u001b[90m.\u001b[39m\u001b[90m.\u001b[39m\u001b[90m.\u001b[39m\u001b[90m.\u001b[39m\u001b[90m.\u001b[39m\u001b[90m.\u001b[39m \u001b[32;1mDONE\u001b[39;22m\n",
      "  nunomaduro/termwind \u001b[90m.\u001b[39m\u001b[90m.\u001b[39m\u001b[90m.\u001b[39m\u001b[90m.\u001b[39m\u001b[90m.\u001b[39m\u001b[90m.\u001b[39m\u001b[90m.\u001b[39m\u001b[90m.\u001b[39m\u001b[90m.\u001b[39m\u001b[90m.\u001b[39m\u001b[90m.\u001b[39m\u001b[90m.\u001b[39m\u001b[90m.\u001b[39m\u001b[90m.\u001b[39m\u001b[90m.\u001b[39m\u001b[90m.\u001b[39m\u001b[90m.\u001b[39m\u001b[90m.\u001b[39m\u001b[90m.\u001b[39m\u001b[90m.\u001b[39m\u001b[90m.\u001b[39m\u001b[90m.\u001b[39m\u001b[90m.\u001b[39m\u001b[90m.\u001b[39m\u001b[90m.\u001b[39m\u001b[90m.\u001b[39m\u001b[90m.\u001b[39m\u001b[90m.\u001b[39m\u001b[90m.\u001b[39m\u001b[90m.\u001b[39m\u001b[90m.\u001b[39m\u001b[90m.\u001b[39m\u001b[90m.\u001b[39m\u001b[90m.\u001b[39m\u001b[90m.\u001b[39m\u001b[90m.\u001b[39m\u001b[90m.\u001b[39m\u001b[90m.\u001b[39m\u001b[90m.\u001b[39m\u001b[90m.\u001b[39m\u001b[90m.\u001b[39m\u001b[90m.\u001b[39m\u001b[90m.\u001b[39m\u001b[90m.\u001b[39m\u001b[90m.\u001b[39m\u001b[90m.\u001b[39m\u001b[90m.\u001b[39m\u001b[90m.\u001b[39m\u001b[90m.\u001b[39m\u001b[90m.\u001b[39m\u001b[90m.\u001b[39m \u001b[32;1mDONE\u001b[39;22m\n",
      "  spatie/laravel-ignition \u001b[90m.\u001b[39m\u001b[90m.\u001b[39m\u001b[90m.\u001b[39m\u001b[90m.\u001b[39m\u001b[90m.\u001b[39m\u001b[90m.\u001b[39m\u001b[90m.\u001b[39m\u001b[90m.\u001b[39m\u001b[90m.\u001b[39m\u001b[90m.\u001b[39m\u001b[90m.\u001b[39m\u001b[90m.\u001b[39m\u001b[90m.\u001b[39m\u001b[90m.\u001b[39m\u001b[90m.\u001b[39m\u001b[90m.\u001b[39m\u001b[90m.\u001b[39m\u001b[90m.\u001b[39m\u001b[90m.\u001b[39m\u001b[90m.\u001b[39m\u001b[90m.\u001b[39m\u001b[90m.\u001b[39m\u001b[90m.\u001b[39m\u001b[90m.\u001b[39m\u001b[90m.\u001b[39m\u001b[90m.\u001b[39m\u001b[90m.\u001b[39m\u001b[90m.\u001b[39m\u001b[90m.\u001b[39m\u001b[90m.\u001b[39m\u001b[90m.\u001b[39m\u001b[90m.\u001b[39m\u001b[90m.\u001b[39m\u001b[90m.\u001b[39m\u001b[90m.\u001b[39m\u001b[90m.\u001b[39m\u001b[90m.\u001b[39m\u001b[90m.\u001b[39m\u001b[90m.\u001b[39m\u001b[90m.\u001b[39m\u001b[90m.\u001b[39m\u001b[90m.\u001b[39m\u001b[90m.\u001b[39m\u001b[90m.\u001b[39m\u001b[90m.\u001b[39m\u001b[90m.\u001b[39m\u001b[90m.\u001b[39m \u001b[32;1mDONE\u001b[39;22m\n",
      "\n",
      "\u001b[32m100 packages you are using are looking for funding.\u001b[39m\n",
      "\u001b[32mUse the `composer fund` command to find out more!\u001b[39m\n"
     ]
    }
   ],
   "source": [
    "! composer install"
   ]
  },
  {
   "cell_type": "code",
   "execution_count": 6,
   "metadata": {},
   "outputs": [
    {
     "name": "stdout",
     "output_type": "stream",
     "text": [
      "\u001b[32mBuilding Actor classes for suites: Acceptance\u001b[39m\n",
      " -> AcceptanceTesterActions.php generated successfully. 111 methods added\n",
      "\u001b[32mTestsCodeception\\AcceptanceTester\u001b[39m includes modules: WebDriver, Db\n"
     ]
    }
   ],
   "source": [
    "! vendor/bin/codecept build"
   ]
  },
  {
   "cell_type": "code",
   "execution_count": 7,
   "metadata": {},
   "outputs": [
    {
     "name": "stdout",
     "output_type": "stream",
     "text": [
      "PHP CS Fixer \u001b[32m3.54.0\u001b[39m \u001b[32m15 Keys Accelerate\u001b[39m by \u001b[33mFabien Potencier\u001b[39m, \u001b[33mDariusz Ruminski\u001b[39m and \u001b[33mcontributors\u001b[39m.\n",
      "PHP runtime: \u001b[32m8.3.0-1ubuntu1\u001b[39m\n",
      "Loaded config \u001b[33mdefault\u001b[39m from \"/home/student/php_2024_sportowa_aplikacja/09_laravel_tdd/project/./.php-cs-fixer.dist.php\".\n",
      "Using cache file \".php-cs-fixer.cache\".\n",
      "   0/104 [░░░░░░░░░░░░░░░░░░░░░░░░░░░░]   0%\u001b[1G\u001b[2K  42/104 [▓▓▓▓▓▓▓▓▓▓▓░░░░░░░░░░░░░░░░░]  40%\u001b[1G\u001b[2K  52/104 [▓▓▓▓▓▓▓▓▓▓▓▓▓▓░░░░░░░░░░░░░░]  50%\u001b[1G\u001b[2K  63/104 [▓▓▓▓▓▓▓▓▓▓▓▓▓▓▓▓░░░░░░░░░░░░]  60%\u001b[1G\u001b[2K  73/104 [▓▓▓▓▓▓▓▓▓▓▓▓▓▓▓▓▓▓▓░░░░░░░░░]  70%\u001b[1G\u001b[2K  84/104 [▓▓▓▓▓▓▓▓▓▓▓▓▓▓▓▓▓▓▓▓▓▓░░░░░░]  80%\u001b[1G\u001b[2K  94/104 [▓▓▓▓▓▓▓▓▓▓▓▓▓▓▓▓▓▓▓▓▓▓▓▓▓░░░]  90%\u001b[1G\u001b[2K 104/104 [▓▓▓▓▓▓▓▓▓▓▓▓▓▓▓▓▓▓▓▓▓▓▓▓▓▓▓▓] 100%\n",
      "\n",
      "\n",
      "Found 0 of 104 files that can be fixed in 0.412 seconds, 20.000 MB memory used\n"
     ]
    }
   ],
   "source": [
    "! vendor/bin/php-cs-fixer fix --diff --dry-run ."
   ]
  },
  {
   "cell_type": "code",
   "execution_count": 8,
   "metadata": {},
   "outputs": [
    {
     "name": "stdout",
     "output_type": "stream",
     "text": [
      "  0/60 [░░░░░░░░░░░░░░░░░░░░░░░░░░░░]   0%\u001b[1G\u001b[2K 20/60 [▓▓▓▓▓▓▓▓▓░░░░░░░░░░░░░░░░░░░]  33%\u001b[1G\u001b[2K 40/60 [▓▓▓▓▓▓▓▓▓▓▓▓▓▓▓▓▓▓░░░░░░░░░░]  66%\u001b[1G\u001b[2K 60/60 [▓▓▓▓▓▓▓▓▓▓▓▓▓▓▓▓▓▓▓▓▓▓▓▓▓▓▓▓] 100%\n",
      "\n",
      "\n",
      "\u001b[30;42m                                                                                \u001b[39;49m\n",
      "\u001b[30;42m [OK] No errors                                                                 \u001b[39;49m\n",
      "\u001b[30;42m                                                                                \u001b[39;49m\n",
      "\n"
     ]
    }
   ],
   "source": [
    "! vendor/bin/phpstan analyze -c phpstan.neon"
   ]
  },
  {
   "cell_type": "code",
   "execution_count": 9,
   "metadata": {},
   "outputs": [
    {
     "name": "stdout",
     "output_type": "stream",
     "text": [
      "phpcpd 6.0.3 by Sebastian Bergmann.\n",
      "\n",
      "No clones found.\n",
      "\n",
      "Time: 00:00.014, Memory: 2.00 MB\n"
     ]
    }
   ],
   "source": [
    "! ~/.composer/vendor/bin/phpcpd . --fuzzy --min-lines 1 --min-tokens 35 --exclude vendor --exclude config --exclude storage --exclude tests_codeception/Support/_generated"
   ]
  },
  {
   "cell_type": "code",
   "execution_count": 10,
   "metadata": {},
   "outputs": [],
   "source": [
    "! cp .env.example .env"
   ]
  },
  {
   "cell_type": "code",
   "execution_count": 11,
   "metadata": {},
   "outputs": [
    {
     "name": "stdout",
     "output_type": "stream",
     "text": [
      "\n",
      "  \u001b[37;44m INFO \u001b[39;49m Application key set successfully.  \n",
      "\n"
     ]
    }
   ],
   "source": [
    "! php artisan key:generate"
   ]
  },
  {
   "cell_type": "code",
   "execution_count": 12,
   "metadata": {},
   "outputs": [],
   "source": [
    "! while ! timeout 1 bash -c \"echo > /dev/tcp/localhost/3306\"; do echo \"Waiting for MySQL...\"; sleep 1; done"
   ]
  },
  {
   "cell_type": "code",
   "execution_count": 13,
   "metadata": {},
   "outputs": [
    {
     "name": "stdout",
     "output_type": "stream",
     "text": [
      "\n",
      "  Dropping all tables \u001b[90m.\u001b[39m\u001b[90m.\u001b[39m\u001b[90m.\u001b[39m\u001b[90m.\u001b[39m\u001b[90m.\u001b[39m\u001b[90m.\u001b[39m\u001b[90m.\u001b[39m\u001b[90m.\u001b[39m\u001b[90m.\u001b[39m\u001b[90m.\u001b[39m\u001b[90m.\u001b[39m\u001b[90m.\u001b[39m\u001b[90m.\u001b[39m\u001b[90m.\u001b[39m\u001b[90m.\u001b[39m\u001b[90m.\u001b[39m\u001b[90m.\u001b[39m\u001b[90m.\u001b[39m\u001b[90m.\u001b[39m\u001b[90m.\u001b[39m\u001b[90m.\u001b[39m\u001b[90m.\u001b[39m\u001b[90m.\u001b[39m\u001b[90m.\u001b[39m\u001b[90m.\u001b[39m\u001b[90m.\u001b[39m\u001b[90m.\u001b[39m\u001b[90m.\u001b[39m\u001b[90m.\u001b[39m\u001b[90m.\u001b[39m\u001b[90m.\u001b[39m\u001b[90m.\u001b[39m\u001b[90m.\u001b[39m\u001b[90m.\u001b[39m\u001b[90m.\u001b[39m\u001b[90m.\u001b[39m\u001b[90m.\u001b[39m\u001b[90m.\u001b[39m\u001b[90m.\u001b[39m\u001b[90m.\u001b[39m\u001b[90m.\u001b[39m\u001b[90m.\u001b[39m\u001b[90m 471.38ms\u001b[39m \u001b[32;1mDONE\u001b[39;22m\n",
      "\n",
      "  \u001b[37;44m INFO \u001b[39;49m Preparing database.  \n",
      "\n",
      "  Creating migration table \u001b[90m.\u001b[39m\u001b[90m.\u001b[39m\u001b[90m.\u001b[39m\u001b[90m.\u001b[39m\u001b[90m.\u001b[39m\u001b[90m.\u001b[39m\u001b[90m.\u001b[39m\u001b[90m.\u001b[39m\u001b[90m.\u001b[39m\u001b[90m.\u001b[39m\u001b[90m.\u001b[39m\u001b[90m.\u001b[39m\u001b[90m.\u001b[39m\u001b[90m.\u001b[39m\u001b[90m.\u001b[39m\u001b[90m.\u001b[39m\u001b[90m.\u001b[39m\u001b[90m.\u001b[39m\u001b[90m.\u001b[39m\u001b[90m.\u001b[39m\u001b[90m.\u001b[39m\u001b[90m.\u001b[39m\u001b[90m.\u001b[39m\u001b[90m.\u001b[39m\u001b[90m.\u001b[39m\u001b[90m.\u001b[39m\u001b[90m.\u001b[39m\u001b[90m.\u001b[39m\u001b[90m.\u001b[39m\u001b[90m.\u001b[39m\u001b[90m.\u001b[39m\u001b[90m.\u001b[39m\u001b[90m.\u001b[39m\u001b[90m.\u001b[39m\u001b[90m.\u001b[39m\u001b[90m.\u001b[39m\u001b[90m.\u001b[39m\u001b[90m 115.71ms\u001b[39m \u001b[32;1mDONE\u001b[39;22m\n",
      "\n",
      "  \u001b[37;44m INFO \u001b[39;49m Running migrations.  \n",
      "\n",
      "  0001_01_01_000000_create_users_table \u001b[90m.\u001b[39m\u001b[90m.\u001b[39m\u001b[90m.\u001b[39m\u001b[90m.\u001b[39m\u001b[90m.\u001b[39m\u001b[90m.\u001b[39m\u001b[90m.\u001b[39m\u001b[90m.\u001b[39m\u001b[90m.\u001b[39m\u001b[90m.\u001b[39m\u001b[90m.\u001b[39m\u001b[90m.\u001b[39m\u001b[90m.\u001b[39m\u001b[90m.\u001b[39m\u001b[90m.\u001b[39m\u001b[90m.\u001b[39m\u001b[90m.\u001b[39m\u001b[90m.\u001b[39m\u001b[90m.\u001b[39m\u001b[90m.\u001b[39m\u001b[90m.\u001b[39m\u001b[90m.\u001b[39m\u001b[90m.\u001b[39m\u001b[90m.\u001b[39m\u001b[90m.\u001b[39m\u001b[90m 621.71ms\u001b[39m \u001b[32;1mDONE\u001b[39;22m\n",
      "  0001_01_01_000001_create_cache_table \u001b[90m.\u001b[39m\u001b[90m.\u001b[39m\u001b[90m.\u001b[39m\u001b[90m.\u001b[39m\u001b[90m.\u001b[39m\u001b[90m.\u001b[39m\u001b[90m.\u001b[39m\u001b[90m.\u001b[39m\u001b[90m.\u001b[39m\u001b[90m.\u001b[39m\u001b[90m.\u001b[39m\u001b[90m.\u001b[39m\u001b[90m.\u001b[39m\u001b[90m.\u001b[39m\u001b[90m.\u001b[39m\u001b[90m.\u001b[39m\u001b[90m.\u001b[39m\u001b[90m.\u001b[39m\u001b[90m.\u001b[39m\u001b[90m.\u001b[39m\u001b[90m.\u001b[39m\u001b[90m.\u001b[39m\u001b[90m.\u001b[39m\u001b[90m.\u001b[39m\u001b[90m.\u001b[39m\u001b[90m 176.83ms\u001b[39m \u001b[32;1mDONE\u001b[39;22m\n",
      "  0001_01_01_000002_create_jobs_table \u001b[90m.\u001b[39m\u001b[90m.\u001b[39m\u001b[90m.\u001b[39m\u001b[90m.\u001b[39m\u001b[90m.\u001b[39m\u001b[90m.\u001b[39m\u001b[90m.\u001b[39m\u001b[90m.\u001b[39m\u001b[90m.\u001b[39m\u001b[90m.\u001b[39m\u001b[90m.\u001b[39m\u001b[90m.\u001b[39m\u001b[90m.\u001b[39m\u001b[90m.\u001b[39m\u001b[90m.\u001b[39m\u001b[90m.\u001b[39m\u001b[90m.\u001b[39m\u001b[90m.\u001b[39m\u001b[90m.\u001b[39m\u001b[90m.\u001b[39m\u001b[90m.\u001b[39m\u001b[90m.\u001b[39m\u001b[90m.\u001b[39m\u001b[90m.\u001b[39m\u001b[90m.\u001b[39m\u001b[90m.\u001b[39m\u001b[90m 365.20ms\u001b[39m \u001b[32;1mDONE\u001b[39;22m\n",
      "  2024_05_02_133350_create_comments_table \u001b[90m.\u001b[39m\u001b[90m.\u001b[39m\u001b[90m.\u001b[39m\u001b[90m.\u001b[39m\u001b[90m.\u001b[39m\u001b[90m.\u001b[39m\u001b[90m.\u001b[39m\u001b[90m.\u001b[39m\u001b[90m.\u001b[39m\u001b[90m.\u001b[39m\u001b[90m.\u001b[39m\u001b[90m.\u001b[39m\u001b[90m.\u001b[39m\u001b[90m.\u001b[39m\u001b[90m.\u001b[39m\u001b[90m.\u001b[39m\u001b[90m.\u001b[39m\u001b[90m.\u001b[39m\u001b[90m.\u001b[39m\u001b[90m.\u001b[39m\u001b[90m.\u001b[39m\u001b[90m.\u001b[39m\u001b[90m.\u001b[39m\u001b[90m 63.57ms\u001b[39m \u001b[32;1mDONE\u001b[39;22m\n",
      "  2024_06_14_110624_create_events_table \u001b[90m.\u001b[39m\u001b[90m.\u001b[39m\u001b[90m.\u001b[39m\u001b[90m.\u001b[39m\u001b[90m.\u001b[39m\u001b[90m.\u001b[39m\u001b[90m.\u001b[39m\u001b[90m.\u001b[39m\u001b[90m.\u001b[39m\u001b[90m.\u001b[39m\u001b[90m.\u001b[39m\u001b[90m.\u001b[39m\u001b[90m.\u001b[39m\u001b[90m.\u001b[39m\u001b[90m.\u001b[39m\u001b[90m.\u001b[39m\u001b[90m.\u001b[39m\u001b[90m.\u001b[39m\u001b[90m.\u001b[39m\u001b[90m.\u001b[39m\u001b[90m.\u001b[39m\u001b[90m.\u001b[39m\u001b[90m.\u001b[39m\u001b[90m.\u001b[39m\u001b[90m 119.45ms\u001b[39m \u001b[32;1mDONE\u001b[39;22m\n",
      "  2024_06_14_111452_create_participants_table \u001b[90m.\u001b[39m\u001b[90m.\u001b[39m\u001b[90m.\u001b[39m\u001b[90m.\u001b[39m\u001b[90m.\u001b[39m\u001b[90m.\u001b[39m\u001b[90m.\u001b[39m\u001b[90m.\u001b[39m\u001b[90m.\u001b[39m\u001b[90m.\u001b[39m\u001b[90m.\u001b[39m\u001b[90m.\u001b[39m\u001b[90m.\u001b[39m\u001b[90m.\u001b[39m\u001b[90m.\u001b[39m\u001b[90m.\u001b[39m\u001b[90m.\u001b[39m\u001b[90m.\u001b[39m\u001b[90m 126.06ms\u001b[39m \u001b[32;1mDONE\u001b[39;22m\n",
      "  2024_06_14_112116_create_intresteds_table \u001b[90m.\u001b[39m\u001b[90m.\u001b[39m\u001b[90m.\u001b[39m\u001b[90m.\u001b[39m\u001b[90m.\u001b[39m\u001b[90m.\u001b[39m\u001b[90m.\u001b[39m\u001b[90m.\u001b[39m\u001b[90m.\u001b[39m\u001b[90m.\u001b[39m\u001b[90m.\u001b[39m\u001b[90m.\u001b[39m\u001b[90m.\u001b[39m\u001b[90m.\u001b[39m\u001b[90m.\u001b[39m\u001b[90m.\u001b[39m\u001b[90m.\u001b[39m\u001b[90m.\u001b[39m\u001b[90m.\u001b[39m\u001b[90m.\u001b[39m\u001b[90m.\u001b[39m\u001b[90m.\u001b[39m\u001b[90m 6.07ms\u001b[39m \u001b[31;1mFAIL\u001b[39;22m\n",
      "\n",
      "  \u001b[41;1m Illuminate\\Database\\QueryException \u001b[49;22m\n",
      "\n",
      "\u001b[39;1m  SQLSTATE[42S01]: Base table or view already exists: 1050 Table 'participants' already exists (Connection: mysql, SQL: create table `participants` (`id` bigint unsigned not null auto_increment primary key, `event_id` int not null, `intrested_id` int not null, `created_at` timestamp null, `updated_at` timestamp null) default character set utf8mb4 collate 'utf8mb4_unicode_ci')\u001b[39;22m\n",
      "\n",
      "  at \u001b[32mvendor/laravel/framework/src/Illuminate/Database/Connection.php\u001b[39m:\u001b[32m813\u001b[39m\n",
      "    \u001b[90m809\u001b[0m\u001b[90m▕ \u001b[0m\u001b[35;1m                    \u001b[0m\u001b[39;1m$this\u001b[0m\u001b[35;1m->\u001b[0m\u001b[39;1mgetName\u001b[0m\u001b[35;1m(), \u001b[0m\u001b[39;1m$query\u001b[0m\u001b[35;1m, \u001b[0m\u001b[39;1m$this\u001b[0m\u001b[35;1m->\u001b[0m\u001b[39;1mprepareBindings\u001b[0m\u001b[35;1m(\u001b[0m\u001b[39;1m$bindings\u001b[0m\u001b[35;1m), \u001b[0m\u001b[39;1m$e\u001b[0m\n",
      "    \u001b[90m810\u001b[0m\u001b[90m▕ \u001b[0m\u001b[39;1m                \u001b[0m\u001b[35;1m);\u001b[0m\n",
      "    \u001b[90m811\u001b[0m\u001b[90m▕ \u001b[0m\u001b[35;1m            }\u001b[0m\n",
      "    \u001b[90m812\u001b[0m\u001b[90m▕ \u001b[0m\n",
      "\u001b[31;1m  ➜ \u001b[0m\u001b[3;1m813\u001b[0m\u001b[90m▕ \u001b[0m\u001b[35;1m            throw new \u001b[0m\u001b[39;1mQueryException\u001b[0m\u001b[35;1m(\u001b[0m\n",
      "    \u001b[90m814\u001b[0m\u001b[90m▕ \u001b[0m\u001b[35;1m                \u001b[0m\u001b[39;1m$this\u001b[0m\u001b[35;1m->\u001b[0m\u001b[39;1mgetName\u001b[0m\u001b[35;1m(), \u001b[0m\u001b[39;1m$query\u001b[0m\u001b[35;1m, \u001b[0m\u001b[39;1m$this\u001b[0m\u001b[35;1m->\u001b[0m\u001b[39;1mprepareBindings\u001b[0m\u001b[35;1m(\u001b[0m\u001b[39;1m$bindings\u001b[0m\u001b[35;1m), \u001b[0m\u001b[39;1m$e\u001b[0m\n",
      "    \u001b[90m815\u001b[0m\u001b[90m▕ \u001b[0m\u001b[39;1m            \u001b[0m\u001b[35;1m);\u001b[0m\n",
      "    \u001b[90m816\u001b[0m\u001b[90m▕ \u001b[0m\u001b[35;1m        }\u001b[0m\n",
      "    \u001b[90m817\u001b[0m\u001b[90m▕ \u001b[0m\u001b[35;1m    }\u001b[0m\n",
      "\n",
      "      \u001b[2m+9 vendor frames \u001b[22m\n",
      "\n",
      "  \u001b[33m10  \u001b[39m\u001b[39;1mdatabase/migrations/2024_06_14_112116_create_intresteds_table.php\u001b[39;22m:\u001b[39;1m13\u001b[39;22m\n",
      "  \u001b[90m    Illuminate\\Support\\Facades\\Facade::__callStatic()\u001b[39m\n",
      "      \u001b[2m+37 vendor frames \u001b[22m\n",
      "\n",
      "  \u001b[33m48  \u001b[39m\u001b[39;1martisan\u001b[39;22m:\u001b[39;1m13\u001b[39;22m\n",
      "  \u001b[90m    Illuminate\\Foundation\\Application::handleCommand()\u001b[39m\n",
      "\n"
     ]
    }
   ],
   "source": [
    "! php artisan migrate:fresh"
   ]
  },
  {
   "cell_type": "code",
   "execution_count": 14,
   "metadata": {},
   "outputs": [
    {
     "name": "stdout",
     "output_type": "stream",
     "text": [
      "\n",
      "  \u001b[37;44m INFO \u001b[39;49m Seeding database.  \n",
      "\n",
      "  Database\\Seeders\\UsersSeeder \u001b[90m.......................................\u001b[39m \u001b[33;1mRUNNING\u001b[39;22m  \n",
      "  Database\\Seeders\\UsersSeeder \u001b[90m...................................\u001b[39m \u001b[90m238 ms\u001b[39m \u001b[32;1mDONE\u001b[39;22m  \n",
      "\n"
     ]
    }
   ],
   "source": [
    "! php artisan db:seed"
   ]
  },
  {
   "cell_type": "code",
   "execution_count": 15,
   "metadata": {},
   "outputs": [
    {
     "name": "stdout",
     "output_type": "stream",
     "text": [
      "mysqldump: [Warning] Using a password on the command line interface can be insecure.\n"
     ]
    }
   ],
   "source": [
    "! mysqldump -h127.0.0.1 -u root --password=root123 test > tests_codeception/Support/Data/dump.sql"
   ]
  },
  {
   "cell_type": "code",
   "execution_count": 16,
   "metadata": {},
   "outputs": [
    {
     "name": "stdout",
     "output_type": "stream",
     "text": [
      "\u001b[K\u001b[?25hm##################\u001b[0m) ⠋ reify:@esbuild/aix-ppc64: \u001b[32;40mtiming\u001b[0m \u001b[35mreifyNode:node_modules/\u001b[0m\u001b[K[0m\u001b[K[0m\u001b[K\n",
      "up to date, audited 145 packages in 1s\n",
      "\n",
      "36 packages are looking for funding\n",
      "  run `npm fund` for details\n",
      "\n",
      "1 \u001b[31m\u001b[1mhigh\u001b[22m\u001b[39m severity vulnerability\n",
      "\n",
      "To address all issues, run:\n",
      "  npm audit fix\n",
      "\n",
      "Run `npm audit` for details.\n"
     ]
    }
   ],
   "source": [
    "! npm install"
   ]
  },
  {
   "cell_type": "code",
   "execution_count": 17,
   "metadata": {},
   "outputs": [
    {
     "name": "stdout",
     "output_type": "stream",
     "text": [
      "\n",
      "> build\n",
      "> vite build\n",
      "\n",
      "\u001b[36mvite v5.2.11 \u001b[32mbuilding for production...\u001b[36m\u001b[39m\n",
      "\u001b[2K\u001b[1Gtransforming (1) \u001b[2mresources/js/app.js\u001b[22m\u001b[2K\u001b[1Gtransforming (4) \u001b[2mnode_modules/axios/index.js\u001b[22m\u001b[2K\u001b[1Gtransforming (5) \u001b[2mresources/css/app.css\u001b[22m\u001b[2K\u001b[1Gtransforming (35) \u001b[2mnode_modules/axios/lib/platform/browser/index.js\u001b[22m\u001b[2K\u001b[1G\u001b[32m✓\u001b[39m 48 modules transformed.\n",
      "\u001b[2K\u001b[1Grendering chunks (1)...\u001b[2K\u001b[1Grendering chunks (2)...\u001b[2K\u001b[1G\u001b[2K\u001b[1Gcomputing gzip size (0)...\u001b[2K\u001b[1Gcomputing gzip size (1)...\u001b[2K\u001b[1Gcomputing gzip size (2)...\u001b[2K\u001b[1Gcomputing gzip size (3)...\u001b[2K\u001b[1G\u001b[2mpublic/build/\u001b[22m\u001b[32mmanifest.json            \u001b[39m\u001b[1m\u001b[2m 0.27 kB\u001b[22m\u001b[1m\u001b[22m\u001b[2m │ gzip:  0.15 kB\u001b[22m\n",
      "\u001b[2mpublic/build/\u001b[22m\u001b[2massets/\u001b[22m\u001b[35mapp-BJFZEaIV.css  \u001b[39m\u001b[1m\u001b[2m35.59 kB\u001b[22m\u001b[1m\u001b[22m\u001b[2m │ gzip:  6.80 kB\u001b[22m\n",
      "\u001b[2mpublic/build/\u001b[22m\u001b[2massets/\u001b[22m\u001b[36mapp-CrG2wnyX.js   \u001b[39m\u001b[1m\u001b[2m74.00 kB\u001b[22m\u001b[1m\u001b[22m\u001b[2m │ gzip: 27.43 kB\u001b[22m\n",
      "\u001b[32m✓ built in 1.49s\u001b[39m\n"
     ]
    }
   ],
   "source": [
    "! npm run build"
   ]
  },
  {
   "cell_type": "code",
   "execution_count": 18,
   "metadata": {},
   "outputs": [
    {
     "name": "stdout",
     "output_type": "stream",
     "text": [
      "\n",
      "  \u001b[30;42;1m PASS \u001b[39;49;22m\u001b[39m Tests\\Unit\\ExampleTest\u001b[39m\n",
      "  \u001b[32;1m✓\u001b[39;22m\u001b[90m \u001b[39m\u001b[90mthat true is true\u001b[39m\n",
      "\n",
      "  \u001b[39;41;1m FAIL \u001b[39;49;22m\u001b[39m Tests\\Feature\\Auth\\AuthenticationTest\u001b[39m\n",
      "  \u001b[31;1m⨯\u001b[39;22m\u001b[90m \u001b[39m\u001b[90mlogin screen can be rendered\u001b[39m\n",
      "  \u001b[31;1m⨯\u001b[39;22m\u001b[90m \u001b[39m\u001b[90musers can authenticate using the login screen\u001b[39m\n",
      "  \u001b[31;1m⨯\u001b[39;22m\u001b[90m \u001b[39m\u001b[90musers can not authenticate with invalid password\u001b[39m\n",
      "  \u001b[31;1m⨯\u001b[39;22m\u001b[90m \u001b[39m\u001b[90musers can logout\u001b[39m\n",
      "\n",
      "  \u001b[39;41;1m FAIL \u001b[39;49;22m\u001b[39m Tests\\Feature\\Auth\\EmailVerificationTest\u001b[39m\n",
      "  \u001b[31;1m⨯\u001b[39;22m\u001b[90m \u001b[39m\u001b[90memail verification screen can be rendered\u001b[39m\n",
      "  \u001b[31;1m⨯\u001b[39;22m\u001b[90m \u001b[39m\u001b[90memail can be verified\u001b[39m\n",
      "  \u001b[31;1m⨯\u001b[39;22m\u001b[90m \u001b[39m\u001b[90memail is not verified with invalid hash\u001b[39m\n",
      "\n",
      "  \u001b[39;41;1m FAIL \u001b[39;49;22m\u001b[39m Tests\\Feature\\Auth\\PasswordConfirmationTest\u001b[39m\n",
      "  \u001b[31;1m⨯\u001b[39;22m\u001b[90m \u001b[39m\u001b[90mconfirm password screen can be rendered\u001b[39m\n",
      "  \u001b[31;1m⨯\u001b[39;22m\u001b[90m \u001b[39m\u001b[90mpassword can be confirmed\u001b[39m\n",
      "  \u001b[31;1m⨯\u001b[39;22m\u001b[90m \u001b[39m\u001b[90mpassword is not confirmed with invalid password\u001b[39m\n",
      "\n",
      "  \u001b[39;41;1m FAIL \u001b[39;49;22m\u001b[39m Tests\\Feature\\Auth\\PasswordResetTest\u001b[39m\n",
      "  \u001b[31;1m⨯\u001b[39;22m\u001b[90m \u001b[39m\u001b[90mreset password link screen can be rendered\u001b[39m\n",
      "  \u001b[31;1m⨯\u001b[39;22m\u001b[90m \u001b[39m\u001b[90mreset password link can be requested\u001b[39m\n",
      "  \u001b[31;1m⨯\u001b[39;22m\u001b[90m \u001b[39m\u001b[90mreset password screen can be rendered\u001b[39m\n",
      "  \u001b[31;1m⨯\u001b[39;22m\u001b[90m \u001b[39m\u001b[90mpassword can be reset with valid token\u001b[39m\n",
      "\n",
      "  \u001b[39;41;1m FAIL \u001b[39;49;22m\u001b[39m Tests\\Feature\\Auth\\PasswordUpdateTest\u001b[39m\n",
      "  \u001b[31;1m⨯\u001b[39;22m\u001b[90m \u001b[39m\u001b[90mpassword can be updated\u001b[39m\n",
      "  \u001b[31;1m⨯\u001b[39;22m\u001b[90m \u001b[39m\u001b[90mcorrect password must be provided to update password\u001b[39m\n",
      "\n",
      "  \u001b[39;41;1m FAIL \u001b[39;49;22m\u001b[39m Tests\\Feature\\Auth\\RegistrationTest\u001b[39m\n",
      "  \u001b[31;1m⨯\u001b[39;22m\u001b[90m \u001b[39m\u001b[90mregistration screen can be rendered\u001b[39m\n",
      "  \u001b[31;1m⨯\u001b[39;22m\u001b[90m \u001b[39m\u001b[90mnew users can register\u001b[39m\n",
      "\n",
      "  \u001b[30;42;1m PASS \u001b[39;49;22m\u001b[39m Tests\\Feature\\ExampleTest\u001b[39m\n",
      "  \u001b[32;1m✓\u001b[39;22m\u001b[90m \u001b[39m\u001b[90mthe application returns a successful response\u001b[39m\u001b[90m                       \u001b[39m \u001b[90m0.04s\u001b[39m  \n",
      "\n",
      "  \u001b[39;41;1m FAIL \u001b[39;49;22m\u001b[39m Tests\\Feature\\ProfileTest\u001b[39m\n",
      "  \u001b[31;1m⨯\u001b[39;22m\u001b[90m \u001b[39m\u001b[90mprofile page is displayed\u001b[39m\n",
      "  \u001b[31;1m⨯\u001b[39;22m\u001b[90m \u001b[39m\u001b[90mprofile information can be updated\u001b[39m\n",
      "  \u001b[31;1m⨯\u001b[39;22m\u001b[90m \u001b[39m\u001b[90memail verification status is unchanged when the email address is unchanged\u001b[39m\n",
      "  \u001b[31;1m⨯\u001b[39;22m\u001b[90m \u001b[39m\u001b[90muser can delete their account\u001b[39m\n",
      "  \u001b[31;1m⨯\u001b[39;22m\u001b[90m \u001b[39m\u001b[90mcorrect password must be provided to delete account\u001b[39m\n",
      "  \u001b[31m────────────────────────────────────────────────────────────────────────────\u001b[39m  \n",
      "  \u001b[41;1m FAILED \u001b[49;22m \u001b[1mTests\\Feature\\Auth\\AuthenticationTest\u001b[22m \u001b[90m>\u001b[39m login scr… \u001b[41;1m QueryException \u001b[49;22m  \n",
      "\u001b[39;1m  SQLSTATE[42S01]: Base table or view already exists: 1050 Table 'participants' already exists (Connection: mysql, SQL: create table `participants` (`id` bigint unsigned not null auto_increment primary key, `event_id` int not null, `intrested_id` int not null, `created_at` timestamp null, `updated_at` timestamp null) default character set utf8mb4 collate 'utf8mb4_unicode_ci')\u001b[39;22m\n",
      "\n",
      "  at \u001b[32mvendor/laravel/framework/src/Illuminate/Database/Connection.php\u001b[39m:\u001b[32m813\u001b[39m\n",
      "    \u001b[90m809\u001b[0m\u001b[90m▕ \u001b[0m\u001b[35;1m                    \u001b[0m\u001b[39;1m$this\u001b[0m\u001b[35;1m->\u001b[0m\u001b[39;1mgetName\u001b[0m\u001b[35;1m(), \u001b[0m\u001b[39;1m$query\u001b[0m\u001b[35;1m, \u001b[0m\u001b[39;1m$this\u001b[0m\u001b[35;1m->\u001b[0m\u001b[39;1mprepareBindings\u001b[0m\u001b[35;1m(\u001b[0m\u001b[39;1m$bindings\u001b[0m\u001b[35;1m), \u001b[0m\u001b[39;1m$e\u001b[0m\n",
      "    \u001b[90m810\u001b[0m\u001b[90m▕ \u001b[0m\u001b[39;1m                \u001b[0m\u001b[35;1m);\u001b[0m\n",
      "    \u001b[90m811\u001b[0m\u001b[90m▕ \u001b[0m\u001b[35;1m            }\u001b[0m\n",
      "    \u001b[90m812\u001b[0m\u001b[90m▕ \u001b[0m\n",
      "\u001b[31;1m  ➜ \u001b[0m\u001b[3;1m813\u001b[0m\u001b[90m▕ \u001b[0m\u001b[35;1m            throw new \u001b[0m\u001b[39;1mQueryException\u001b[0m\u001b[35;1m(\u001b[0m\n",
      "    \u001b[90m814\u001b[0m\u001b[90m▕ \u001b[0m\u001b[35;1m                \u001b[0m\u001b[39;1m$this\u001b[0m\u001b[35;1m->\u001b[0m\u001b[39;1mgetName\u001b[0m\u001b[35;1m(), \u001b[0m\u001b[39;1m$query\u001b[0m\u001b[35;1m, \u001b[0m\u001b[39;1m$this\u001b[0m\u001b[35;1m->\u001b[0m\u001b[39;1mprepareBindings\u001b[0m\u001b[35;1m(\u001b[0m\u001b[39;1m$bindings\u001b[0m\u001b[35;1m), \u001b[0m\u001b[39;1m$e\u001b[0m\n",
      "    \u001b[90m815\u001b[0m\u001b[90m▕ \u001b[0m\u001b[39;1m            \u001b[0m\u001b[35;1m);\u001b[0m\n",
      "    \u001b[90m816\u001b[0m\u001b[90m▕ \u001b[0m\u001b[35;1m        }\u001b[0m\n",
      "    \u001b[90m817\u001b[0m\u001b[90m▕ \u001b[0m\u001b[35;1m    }\u001b[0m\n",
      "\n",
      "      \u001b[2m+10 vendor frames \u001b[22m\n",
      "  \u001b[33m11  \u001b[39m\u001b[39;1mdatabase/migrations/2024_06_14_112116_create_intresteds_table.php\u001b[39;22m:\u001b[39;1m13\u001b[39;22m\n",
      "\n",
      "  \u001b[31m────────────────────────────────────────────────────────────────────────────\u001b[39m  \n",
      "  \u001b[41;1m FAILED \u001b[49;22m \u001b[1mTests\\Feature\\Auth\\AuthenticationTest\u001b[22m \u001b[90m>\u001b[39m users can… \u001b[41;1m QueryException \u001b[49;22m  \n",
      "\u001b[39;1m  SQLSTATE[42S01]: Base table or view already exists: 1050 Table 'participants' already exists (Connection: mysql, SQL: create table `participants` (`id` bigint unsigned not null auto_increment primary key, `event_id` int not null, `intrested_id` int not null, `created_at` timestamp null, `updated_at` timestamp null) default character set utf8mb4 collate 'utf8mb4_unicode_ci')\u001b[39;22m\n",
      "\n",
      "  at \u001b[32mvendor/laravel/framework/src/Illuminate/Database/Connection.php\u001b[39m:\u001b[32m813\u001b[39m\n",
      "    \u001b[90m809\u001b[0m\u001b[90m▕ \u001b[0m\u001b[35;1m                    \u001b[0m\u001b[39;1m$this\u001b[0m\u001b[35;1m->\u001b[0m\u001b[39;1mgetName\u001b[0m\u001b[35;1m(), \u001b[0m\u001b[39;1m$query\u001b[0m\u001b[35;1m, \u001b[0m\u001b[39;1m$this\u001b[0m\u001b[35;1m->\u001b[0m\u001b[39;1mprepareBindings\u001b[0m\u001b[35;1m(\u001b[0m\u001b[39;1m$bindings\u001b[0m\u001b[35;1m), \u001b[0m\u001b[39;1m$e\u001b[0m\n",
      "    \u001b[90m810\u001b[0m\u001b[90m▕ \u001b[0m\u001b[39;1m                \u001b[0m\u001b[35;1m);\u001b[0m\n",
      "    \u001b[90m811\u001b[0m\u001b[90m▕ \u001b[0m\u001b[35;1m            }\u001b[0m\n",
      "    \u001b[90m812\u001b[0m\u001b[90m▕ \u001b[0m\n",
      "\u001b[31;1m  ➜ \u001b[0m\u001b[3;1m813\u001b[0m\u001b[90m▕ \u001b[0m\u001b[35;1m            throw new \u001b[0m\u001b[39;1mQueryException\u001b[0m\u001b[35;1m(\u001b[0m\n",
      "    \u001b[90m814\u001b[0m\u001b[90m▕ \u001b[0m\u001b[35;1m                \u001b[0m\u001b[39;1m$this\u001b[0m\u001b[35;1m->\u001b[0m\u001b[39;1mgetName\u001b[0m\u001b[35;1m(), \u001b[0m\u001b[39;1m$query\u001b[0m\u001b[35;1m, \u001b[0m\u001b[39;1m$this\u001b[0m\u001b[35;1m->\u001b[0m\u001b[39;1mprepareBindings\u001b[0m\u001b[35;1m(\u001b[0m\u001b[39;1m$bindings\u001b[0m\u001b[35;1m), \u001b[0m\u001b[39;1m$e\u001b[0m\n",
      "    \u001b[90m815\u001b[0m\u001b[90m▕ \u001b[0m\u001b[39;1m            \u001b[0m\u001b[35;1m);\u001b[0m\n",
      "    \u001b[90m816\u001b[0m\u001b[90m▕ \u001b[0m\u001b[35;1m        }\u001b[0m\n",
      "    \u001b[90m817\u001b[0m\u001b[90m▕ \u001b[0m\u001b[35;1m    }\u001b[0m\n",
      "\n",
      "      \u001b[2m+10 vendor frames \u001b[22m\n",
      "  \u001b[33m11  \u001b[39m\u001b[39;1mdatabase/migrations/2024_06_14_112116_create_intresteds_table.php\u001b[39;22m:\u001b[39;1m13\u001b[39;22m\n",
      "\n",
      "  \u001b[31m────────────────────────────────────────────────────────────────────────────\u001b[39m  \n",
      "  \u001b[41;1m FAILED \u001b[49;22m \u001b[1mTests\\Feature\\Auth\\AuthenticationTest\u001b[22m \u001b[90m>\u001b[39m users can… \u001b[41;1m QueryException \u001b[49;22m  \n",
      "\u001b[39;1m  SQLSTATE[42S01]: Base table or view already exists: 1050 Table 'participants' already exists (Connection: mysql, SQL: create table `participants` (`id` bigint unsigned not null auto_increment primary key, `event_id` int not null, `intrested_id` int not null, `created_at` timestamp null, `updated_at` timestamp null) default character set utf8mb4 collate 'utf8mb4_unicode_ci')\u001b[39;22m\n",
      "\n",
      "  at \u001b[32mvendor/laravel/framework/src/Illuminate/Database/Connection.php\u001b[39m:\u001b[32m813\u001b[39m\n",
      "    \u001b[90m809\u001b[0m\u001b[90m▕ \u001b[0m\u001b[35;1m                    \u001b[0m\u001b[39;1m$this\u001b[0m\u001b[35;1m->\u001b[0m\u001b[39;1mgetName\u001b[0m\u001b[35;1m(), \u001b[0m\u001b[39;1m$query\u001b[0m\u001b[35;1m, \u001b[0m\u001b[39;1m$this\u001b[0m\u001b[35;1m->\u001b[0m\u001b[39;1mprepareBindings\u001b[0m\u001b[35;1m(\u001b[0m\u001b[39;1m$bindings\u001b[0m\u001b[35;1m), \u001b[0m\u001b[39;1m$e\u001b[0m\n",
      "    \u001b[90m810\u001b[0m\u001b[90m▕ \u001b[0m\u001b[39;1m                \u001b[0m\u001b[35;1m);\u001b[0m\n",
      "    \u001b[90m811\u001b[0m\u001b[90m▕ \u001b[0m\u001b[35;1m            }\u001b[0m\n",
      "    \u001b[90m812\u001b[0m\u001b[90m▕ \u001b[0m\n",
      "\u001b[31;1m  ➜ \u001b[0m\u001b[3;1m813\u001b[0m\u001b[90m▕ \u001b[0m\u001b[35;1m            throw new \u001b[0m\u001b[39;1mQueryException\u001b[0m\u001b[35;1m(\u001b[0m\n",
      "    \u001b[90m814\u001b[0m\u001b[90m▕ \u001b[0m\u001b[35;1m                \u001b[0m\u001b[39;1m$this\u001b[0m\u001b[35;1m->\u001b[0m\u001b[39;1mgetName\u001b[0m\u001b[35;1m(), \u001b[0m\u001b[39;1m$query\u001b[0m\u001b[35;1m, \u001b[0m\u001b[39;1m$this\u001b[0m\u001b[35;1m->\u001b[0m\u001b[39;1mprepareBindings\u001b[0m\u001b[35;1m(\u001b[0m\u001b[39;1m$bindings\u001b[0m\u001b[35;1m), \u001b[0m\u001b[39;1m$e\u001b[0m\n",
      "    \u001b[90m815\u001b[0m\u001b[90m▕ \u001b[0m\u001b[39;1m            \u001b[0m\u001b[35;1m);\u001b[0m\n",
      "    \u001b[90m816\u001b[0m\u001b[90m▕ \u001b[0m\u001b[35;1m        }\u001b[0m\n",
      "    \u001b[90m817\u001b[0m\u001b[90m▕ \u001b[0m\u001b[35;1m    }\u001b[0m\n",
      "\n",
      "      \u001b[2m+10 vendor frames \u001b[22m\n",
      "  \u001b[33m11  \u001b[39m\u001b[39;1mdatabase/migrations/2024_06_14_112116_create_intresteds_table.php\u001b[39;22m:\u001b[39;1m13\u001b[39;22m\n",
      "\n",
      "  \u001b[31m────────────────────────────────────────────────────────────────────────────\u001b[39m  \n",
      "  \u001b[41;1m FAILED \u001b[49;22m \u001b[1mTests\\Feature\\Auth\\AuthenticationTest\u001b[22m \u001b[90m>\u001b[39m users can… \u001b[41;1m QueryException \u001b[49;22m  \n",
      "\u001b[39;1m  SQLSTATE[42S01]: Base table or view already exists: 1050 Table 'participants' already exists (Connection: mysql, SQL: create table `participants` (`id` bigint unsigned not null auto_increment primary key, `event_id` int not null, `intrested_id` int not null, `created_at` timestamp null, `updated_at` timestamp null) default character set utf8mb4 collate 'utf8mb4_unicode_ci')\u001b[39;22m\n",
      "\n",
      "  at \u001b[32mvendor/laravel/framework/src/Illuminate/Database/Connection.php\u001b[39m:\u001b[32m813\u001b[39m\n",
      "    \u001b[90m809\u001b[0m\u001b[90m▕ \u001b[0m\u001b[35;1m                    \u001b[0m\u001b[39;1m$this\u001b[0m\u001b[35;1m->\u001b[0m\u001b[39;1mgetName\u001b[0m\u001b[35;1m(), \u001b[0m\u001b[39;1m$query\u001b[0m\u001b[35;1m, \u001b[0m\u001b[39;1m$this\u001b[0m\u001b[35;1m->\u001b[0m\u001b[39;1mprepareBindings\u001b[0m\u001b[35;1m(\u001b[0m\u001b[39;1m$bindings\u001b[0m\u001b[35;1m), \u001b[0m\u001b[39;1m$e\u001b[0m\n",
      "    \u001b[90m810\u001b[0m\u001b[90m▕ \u001b[0m\u001b[39;1m                \u001b[0m\u001b[35;1m);\u001b[0m\n",
      "    \u001b[90m811\u001b[0m\u001b[90m▕ \u001b[0m\u001b[35;1m            }\u001b[0m\n",
      "    \u001b[90m812\u001b[0m\u001b[90m▕ \u001b[0m\n",
      "\u001b[31;1m  ➜ \u001b[0m\u001b[3;1m813\u001b[0m\u001b[90m▕ \u001b[0m\u001b[35;1m            throw new \u001b[0m\u001b[39;1mQueryException\u001b[0m\u001b[35;1m(\u001b[0m\n",
      "    \u001b[90m814\u001b[0m\u001b[90m▕ \u001b[0m\u001b[35;1m                \u001b[0m\u001b[39;1m$this\u001b[0m\u001b[35;1m->\u001b[0m\u001b[39;1mgetName\u001b[0m\u001b[35;1m(), \u001b[0m\u001b[39;1m$query\u001b[0m\u001b[35;1m, \u001b[0m\u001b[39;1m$this\u001b[0m\u001b[35;1m->\u001b[0m\u001b[39;1mprepareBindings\u001b[0m\u001b[35;1m(\u001b[0m\u001b[39;1m$bindings\u001b[0m\u001b[35;1m), \u001b[0m\u001b[39;1m$e\u001b[0m\n",
      "    \u001b[90m815\u001b[0m\u001b[90m▕ \u001b[0m\u001b[39;1m            \u001b[0m\u001b[35;1m);\u001b[0m\n",
      "    \u001b[90m816\u001b[0m\u001b[90m▕ \u001b[0m\u001b[35;1m        }\u001b[0m\n",
      "    \u001b[90m817\u001b[0m\u001b[90m▕ \u001b[0m\u001b[35;1m    }\u001b[0m\n",
      "\n",
      "      \u001b[2m+10 vendor frames \u001b[22m\n",
      "  \u001b[33m11  \u001b[39m\u001b[39;1mdatabase/migrations/2024_06_14_112116_create_intresteds_table.php\u001b[39;22m:\u001b[39;1m13\u001b[39;22m\n",
      "\n",
      "  \u001b[31m────────────────────────────────────────────────────────────────────────────\u001b[39m  \n",
      "  \u001b[41;1m FAILED \u001b[49;22m \u001b[1mTests\\Feature\\Auth\\EmailVerificationTest\u001b[22m \u001b[90m>\u001b[39m email…  \u001b[41;1m QueryException \u001b[49;22m  \n",
      "\u001b[39;1m  SQLSTATE[42S01]: Base table or view already exists: 1050 Table 'participants' already exists (Connection: mysql, SQL: create table `participants` (`id` bigint unsigned not null auto_increment primary key, `event_id` int not null, `intrested_id` int not null, `created_at` timestamp null, `updated_at` timestamp null) default character set utf8mb4 collate 'utf8mb4_unicode_ci')\u001b[39;22m\n",
      "\n",
      "  at \u001b[32mvendor/laravel/framework/src/Illuminate/Database/Connection.php\u001b[39m:\u001b[32m813\u001b[39m\n",
      "    \u001b[90m809\u001b[0m\u001b[90m▕ \u001b[0m\u001b[35;1m                    \u001b[0m\u001b[39;1m$this\u001b[0m\u001b[35;1m->\u001b[0m\u001b[39;1mgetName\u001b[0m\u001b[35;1m(), \u001b[0m\u001b[39;1m$query\u001b[0m\u001b[35;1m, \u001b[0m\u001b[39;1m$this\u001b[0m\u001b[35;1m->\u001b[0m\u001b[39;1mprepareBindings\u001b[0m\u001b[35;1m(\u001b[0m\u001b[39;1m$bindings\u001b[0m\u001b[35;1m), \u001b[0m\u001b[39;1m$e\u001b[0m\n",
      "    \u001b[90m810\u001b[0m\u001b[90m▕ \u001b[0m\u001b[39;1m                \u001b[0m\u001b[35;1m);\u001b[0m\n",
      "    \u001b[90m811\u001b[0m\u001b[90m▕ \u001b[0m\u001b[35;1m            }\u001b[0m\n",
      "    \u001b[90m812\u001b[0m\u001b[90m▕ \u001b[0m\n",
      "\u001b[31;1m  ➜ \u001b[0m\u001b[3;1m813\u001b[0m\u001b[90m▕ \u001b[0m\u001b[35;1m            throw new \u001b[0m\u001b[39;1mQueryException\u001b[0m\u001b[35;1m(\u001b[0m\n",
      "    \u001b[90m814\u001b[0m\u001b[90m▕ \u001b[0m\u001b[35;1m                \u001b[0m\u001b[39;1m$this\u001b[0m\u001b[35;1m->\u001b[0m\u001b[39;1mgetName\u001b[0m\u001b[35;1m(), \u001b[0m\u001b[39;1m$query\u001b[0m\u001b[35;1m, \u001b[0m\u001b[39;1m$this\u001b[0m\u001b[35;1m->\u001b[0m\u001b[39;1mprepareBindings\u001b[0m\u001b[35;1m(\u001b[0m\u001b[39;1m$bindings\u001b[0m\u001b[35;1m), \u001b[0m\u001b[39;1m$e\u001b[0m\n",
      "    \u001b[90m815\u001b[0m\u001b[90m▕ \u001b[0m\u001b[39;1m            \u001b[0m\u001b[35;1m);\u001b[0m\n",
      "    \u001b[90m816\u001b[0m\u001b[90m▕ \u001b[0m\u001b[35;1m        }\u001b[0m\n",
      "    \u001b[90m817\u001b[0m\u001b[90m▕ \u001b[0m\u001b[35;1m    }\u001b[0m\n",
      "\n",
      "      \u001b[2m+10 vendor frames \u001b[22m\n",
      "  \u001b[33m11  \u001b[39m\u001b[39;1mdatabase/migrations/2024_06_14_112116_create_intresteds_table.php\u001b[39;22m:\u001b[39;1m13\u001b[39;22m\n",
      "\n",
      "  \u001b[31m────────────────────────────────────────────────────────────────────────────\u001b[39m  \n",
      "  \u001b[41;1m FAILED \u001b[49;22m \u001b[1mTests\\Feature\\Auth\\EmailVerificationTest\u001b[22m \u001b[90m>\u001b[39m email…  \u001b[41;1m QueryException \u001b[49;22m  \n",
      "\u001b[39;1m  SQLSTATE[42S01]: Base table or view already exists: 1050 Table 'participants' already exists (Connection: mysql, SQL: create table `participants` (`id` bigint unsigned not null auto_increment primary key, `event_id` int not null, `intrested_id` int not null, `created_at` timestamp null, `updated_at` timestamp null) default character set utf8mb4 collate 'utf8mb4_unicode_ci')\u001b[39;22m\n",
      "\n",
      "  at \u001b[32mvendor/laravel/framework/src/Illuminate/Database/Connection.php\u001b[39m:\u001b[32m813\u001b[39m\n",
      "    \u001b[90m809\u001b[0m\u001b[90m▕ \u001b[0m\u001b[35;1m                    \u001b[0m\u001b[39;1m$this\u001b[0m\u001b[35;1m->\u001b[0m\u001b[39;1mgetName\u001b[0m\u001b[35;1m(), \u001b[0m\u001b[39;1m$query\u001b[0m\u001b[35;1m, \u001b[0m\u001b[39;1m$this\u001b[0m\u001b[35;1m->\u001b[0m\u001b[39;1mprepareBindings\u001b[0m\u001b[35;1m(\u001b[0m\u001b[39;1m$bindings\u001b[0m\u001b[35;1m), \u001b[0m\u001b[39;1m$e\u001b[0m\n",
      "    \u001b[90m810\u001b[0m\u001b[90m▕ \u001b[0m\u001b[39;1m                \u001b[0m\u001b[35;1m);\u001b[0m\n",
      "    \u001b[90m811\u001b[0m\u001b[90m▕ \u001b[0m\u001b[35;1m            }\u001b[0m\n",
      "    \u001b[90m812\u001b[0m\u001b[90m▕ \u001b[0m\n",
      "\u001b[31;1m  ➜ \u001b[0m\u001b[3;1m813\u001b[0m\u001b[90m▕ \u001b[0m\u001b[35;1m            throw new \u001b[0m\u001b[39;1mQueryException\u001b[0m\u001b[35;1m(\u001b[0m\n",
      "    \u001b[90m814\u001b[0m\u001b[90m▕ \u001b[0m\u001b[35;1m                \u001b[0m\u001b[39;1m$this\u001b[0m\u001b[35;1m->\u001b[0m\u001b[39;1mgetName\u001b[0m\u001b[35;1m(), \u001b[0m\u001b[39;1m$query\u001b[0m\u001b[35;1m, \u001b[0m\u001b[39;1m$this\u001b[0m\u001b[35;1m->\u001b[0m\u001b[39;1mprepareBindings\u001b[0m\u001b[35;1m(\u001b[0m\u001b[39;1m$bindings\u001b[0m\u001b[35;1m), \u001b[0m\u001b[39;1m$e\u001b[0m\n",
      "    \u001b[90m815\u001b[0m\u001b[90m▕ \u001b[0m\u001b[39;1m            \u001b[0m\u001b[35;1m);\u001b[0m\n",
      "    \u001b[90m816\u001b[0m\u001b[90m▕ \u001b[0m\u001b[35;1m        }\u001b[0m\n",
      "    \u001b[90m817\u001b[0m\u001b[90m▕ \u001b[0m\u001b[35;1m    }\u001b[0m\n",
      "\n",
      "      \u001b[2m+10 vendor frames \u001b[22m\n",
      "  \u001b[33m11  \u001b[39m\u001b[39;1mdatabase/migrations/2024_06_14_112116_create_intresteds_table.php\u001b[39;22m:\u001b[39;1m13\u001b[39;22m\n",
      "\n",
      "  \u001b[31m────────────────────────────────────────────────────────────────────────────\u001b[39m  \n",
      "  \u001b[41;1m FAILED \u001b[49;22m \u001b[1mTests\\Feature\\Auth\\EmailVerificationTest\u001b[22m \u001b[90m>\u001b[39m email…  \u001b[41;1m QueryException \u001b[49;22m  \n",
      "\u001b[39;1m  SQLSTATE[42S01]: Base table or view already exists: 1050 Table 'participants' already exists (Connection: mysql, SQL: create table `participants` (`id` bigint unsigned not null auto_increment primary key, `event_id` int not null, `intrested_id` int not null, `created_at` timestamp null, `updated_at` timestamp null) default character set utf8mb4 collate 'utf8mb4_unicode_ci')\u001b[39;22m\n",
      "\n",
      "  at \u001b[32mvendor/laravel/framework/src/Illuminate/Database/Connection.php\u001b[39m:\u001b[32m813\u001b[39m\n",
      "    \u001b[90m809\u001b[0m\u001b[90m▕ \u001b[0m\u001b[35;1m                    \u001b[0m\u001b[39;1m$this\u001b[0m\u001b[35;1m->\u001b[0m\u001b[39;1mgetName\u001b[0m\u001b[35;1m(), \u001b[0m\u001b[39;1m$query\u001b[0m\u001b[35;1m, \u001b[0m\u001b[39;1m$this\u001b[0m\u001b[35;1m->\u001b[0m\u001b[39;1mprepareBindings\u001b[0m\u001b[35;1m(\u001b[0m\u001b[39;1m$bindings\u001b[0m\u001b[35;1m), \u001b[0m\u001b[39;1m$e\u001b[0m\n",
      "    \u001b[90m810\u001b[0m\u001b[90m▕ \u001b[0m\u001b[39;1m                \u001b[0m\u001b[35;1m);\u001b[0m\n",
      "    \u001b[90m811\u001b[0m\u001b[90m▕ \u001b[0m\u001b[35;1m            }\u001b[0m\n",
      "    \u001b[90m812\u001b[0m\u001b[90m▕ \u001b[0m\n",
      "\u001b[31;1m  ➜ \u001b[0m\u001b[3;1m813\u001b[0m\u001b[90m▕ \u001b[0m\u001b[35;1m            throw new \u001b[0m\u001b[39;1mQueryException\u001b[0m\u001b[35;1m(\u001b[0m\n",
      "    \u001b[90m814\u001b[0m\u001b[90m▕ \u001b[0m\u001b[35;1m                \u001b[0m\u001b[39;1m$this\u001b[0m\u001b[35;1m->\u001b[0m\u001b[39;1mgetName\u001b[0m\u001b[35;1m(), \u001b[0m\u001b[39;1m$query\u001b[0m\u001b[35;1m, \u001b[0m\u001b[39;1m$this\u001b[0m\u001b[35;1m->\u001b[0m\u001b[39;1mprepareBindings\u001b[0m\u001b[35;1m(\u001b[0m\u001b[39;1m$bindings\u001b[0m\u001b[35;1m), \u001b[0m\u001b[39;1m$e\u001b[0m\n",
      "    \u001b[90m815\u001b[0m\u001b[90m▕ \u001b[0m\u001b[39;1m            \u001b[0m\u001b[35;1m);\u001b[0m\n",
      "    \u001b[90m816\u001b[0m\u001b[90m▕ \u001b[0m\u001b[35;1m        }\u001b[0m\n",
      "    \u001b[90m817\u001b[0m\u001b[90m▕ \u001b[0m\u001b[35;1m    }\u001b[0m\n",
      "\n",
      "      \u001b[2m+10 vendor frames \u001b[22m\n",
      "  \u001b[33m11  \u001b[39m\u001b[39;1mdatabase/migrations/2024_06_14_112116_create_intresteds_table.php\u001b[39;22m:\u001b[39;1m13\u001b[39;22m\n",
      "\n",
      "  \u001b[31m────────────────────────────────────────────────────────────────────────────\u001b[39m  \n",
      "  \u001b[41;1m FAILED \u001b[49;22m \u001b[1mTests\\Feature\\Auth\\PasswordConfirmationTest\u001b[22m \u001b[90m>\u001b[39m con… \u001b[41;1m QueryException \u001b[49;22m  \n",
      "\u001b[39;1m  SQLSTATE[42S01]: Base table or view already exists: 1050 Table 'participants' already exists (Connection: mysql, SQL: create table `participants` (`id` bigint unsigned not null auto_increment primary key, `event_id` int not null, `intrested_id` int not null, `created_at` timestamp null, `updated_at` timestamp null) default character set utf8mb4 collate 'utf8mb4_unicode_ci')\u001b[39;22m\n",
      "\n",
      "  at \u001b[32mvendor/laravel/framework/src/Illuminate/Database/Connection.php\u001b[39m:\u001b[32m813\u001b[39m\n",
      "    \u001b[90m809\u001b[0m\u001b[90m▕ \u001b[0m\u001b[35;1m                    \u001b[0m\u001b[39;1m$this\u001b[0m\u001b[35;1m->\u001b[0m\u001b[39;1mgetName\u001b[0m\u001b[35;1m(), \u001b[0m\u001b[39;1m$query\u001b[0m\u001b[35;1m, \u001b[0m\u001b[39;1m$this\u001b[0m\u001b[35;1m->\u001b[0m\u001b[39;1mprepareBindings\u001b[0m\u001b[35;1m(\u001b[0m\u001b[39;1m$bindings\u001b[0m\u001b[35;1m), \u001b[0m\u001b[39;1m$e\u001b[0m\n",
      "    \u001b[90m810\u001b[0m\u001b[90m▕ \u001b[0m\u001b[39;1m                \u001b[0m\u001b[35;1m);\u001b[0m\n",
      "    \u001b[90m811\u001b[0m\u001b[90m▕ \u001b[0m\u001b[35;1m            }\u001b[0m\n",
      "    \u001b[90m812\u001b[0m\u001b[90m▕ \u001b[0m\n",
      "\u001b[31;1m  ➜ \u001b[0m\u001b[3;1m813\u001b[0m\u001b[90m▕ \u001b[0m\u001b[35;1m            throw new \u001b[0m\u001b[39;1mQueryException\u001b[0m\u001b[35;1m(\u001b[0m\n",
      "    \u001b[90m814\u001b[0m\u001b[90m▕ \u001b[0m\u001b[35;1m                \u001b[0m\u001b[39;1m$this\u001b[0m\u001b[35;1m->\u001b[0m\u001b[39;1mgetName\u001b[0m\u001b[35;1m(), \u001b[0m\u001b[39;1m$query\u001b[0m\u001b[35;1m, \u001b[0m\u001b[39;1m$this\u001b[0m\u001b[35;1m->\u001b[0m\u001b[39;1mprepareBindings\u001b[0m\u001b[35;1m(\u001b[0m\u001b[39;1m$bindings\u001b[0m\u001b[35;1m), \u001b[0m\u001b[39;1m$e\u001b[0m\n",
      "    \u001b[90m815\u001b[0m\u001b[90m▕ \u001b[0m\u001b[39;1m            \u001b[0m\u001b[35;1m);\u001b[0m\n",
      "    \u001b[90m816\u001b[0m\u001b[90m▕ \u001b[0m\u001b[35;1m        }\u001b[0m\n",
      "    \u001b[90m817\u001b[0m\u001b[90m▕ \u001b[0m\u001b[35;1m    }\u001b[0m\n",
      "\n",
      "      \u001b[2m+10 vendor frames \u001b[22m\n",
      "  \u001b[33m11  \u001b[39m\u001b[39;1mdatabase/migrations/2024_06_14_112116_create_intresteds_table.php\u001b[39;22m:\u001b[39;1m13\u001b[39;22m\n",
      "\n",
      "  \u001b[31m────────────────────────────────────────────────────────────────────────────\u001b[39m  \n",
      "  \u001b[41;1m FAILED \u001b[49;22m \u001b[1mTests\\Feature\\Auth\\PasswordConfirmationTest\u001b[22m \u001b[90m>\u001b[39m pas… \u001b[41;1m QueryException \u001b[49;22m  \n",
      "\u001b[39;1m  SQLSTATE[42S01]: Base table or view already exists: 1050 Table 'participants' already exists (Connection: mysql, SQL: create table `participants` (`id` bigint unsigned not null auto_increment primary key, `event_id` int not null, `intrested_id` int not null, `created_at` timestamp null, `updated_at` timestamp null) default character set utf8mb4 collate 'utf8mb4_unicode_ci')\u001b[39;22m\n",
      "\n",
      "  at \u001b[32mvendor/laravel/framework/src/Illuminate/Database/Connection.php\u001b[39m:\u001b[32m813\u001b[39m\n",
      "    \u001b[90m809\u001b[0m\u001b[90m▕ \u001b[0m\u001b[35;1m                    \u001b[0m\u001b[39;1m$this\u001b[0m\u001b[35;1m->\u001b[0m\u001b[39;1mgetName\u001b[0m\u001b[35;1m(), \u001b[0m\u001b[39;1m$query\u001b[0m\u001b[35;1m, \u001b[0m\u001b[39;1m$this\u001b[0m\u001b[35;1m->\u001b[0m\u001b[39;1mprepareBindings\u001b[0m\u001b[35;1m(\u001b[0m\u001b[39;1m$bindings\u001b[0m\u001b[35;1m), \u001b[0m\u001b[39;1m$e\u001b[0m\n",
      "    \u001b[90m810\u001b[0m\u001b[90m▕ \u001b[0m\u001b[39;1m                \u001b[0m\u001b[35;1m);\u001b[0m\n",
      "    \u001b[90m811\u001b[0m\u001b[90m▕ \u001b[0m\u001b[35;1m            }\u001b[0m\n",
      "    \u001b[90m812\u001b[0m\u001b[90m▕ \u001b[0m\n",
      "\u001b[31;1m  ➜ \u001b[0m\u001b[3;1m813\u001b[0m\u001b[90m▕ \u001b[0m\u001b[35;1m            throw new \u001b[0m\u001b[39;1mQueryException\u001b[0m\u001b[35;1m(\u001b[0m\n",
      "    \u001b[90m814\u001b[0m\u001b[90m▕ \u001b[0m\u001b[35;1m                \u001b[0m\u001b[39;1m$this\u001b[0m\u001b[35;1m->\u001b[0m\u001b[39;1mgetName\u001b[0m\u001b[35;1m(), \u001b[0m\u001b[39;1m$query\u001b[0m\u001b[35;1m, \u001b[0m\u001b[39;1m$this\u001b[0m\u001b[35;1m->\u001b[0m\u001b[39;1mprepareBindings\u001b[0m\u001b[35;1m(\u001b[0m\u001b[39;1m$bindings\u001b[0m\u001b[35;1m), \u001b[0m\u001b[39;1m$e\u001b[0m\n",
      "    \u001b[90m815\u001b[0m\u001b[90m▕ \u001b[0m\u001b[39;1m            \u001b[0m\u001b[35;1m);\u001b[0m\n",
      "    \u001b[90m816\u001b[0m\u001b[90m▕ \u001b[0m\u001b[35;1m        }\u001b[0m\n",
      "    \u001b[90m817\u001b[0m\u001b[90m▕ \u001b[0m\u001b[35;1m    }\u001b[0m\n",
      "\n",
      "      \u001b[2m+10 vendor frames \u001b[22m\n",
      "  \u001b[33m11  \u001b[39m\u001b[39;1mdatabase/migrations/2024_06_14_112116_create_intresteds_table.php\u001b[39;22m:\u001b[39;1m13\u001b[39;22m\n",
      "\n",
      "  \u001b[31m────────────────────────────────────────────────────────────────────────────\u001b[39m  \n",
      "  \u001b[41;1m FAILED \u001b[49;22m \u001b[1mTests\\Feature\\Auth\\PasswordConfirmationTest\u001b[22m \u001b[90m>\u001b[39m pas… \u001b[41;1m QueryException \u001b[49;22m  \n",
      "\u001b[39;1m  SQLSTATE[42S01]: Base table or view already exists: 1050 Table 'participants' already exists (Connection: mysql, SQL: create table `participants` (`id` bigint unsigned not null auto_increment primary key, `event_id` int not null, `intrested_id` int not null, `created_at` timestamp null, `updated_at` timestamp null) default character set utf8mb4 collate 'utf8mb4_unicode_ci')\u001b[39;22m\n",
      "\n",
      "  at \u001b[32mvendor/laravel/framework/src/Illuminate/Database/Connection.php\u001b[39m:\u001b[32m813\u001b[39m\n",
      "    \u001b[90m809\u001b[0m\u001b[90m▕ \u001b[0m\u001b[35;1m                    \u001b[0m\u001b[39;1m$this\u001b[0m\u001b[35;1m->\u001b[0m\u001b[39;1mgetName\u001b[0m\u001b[35;1m(), \u001b[0m\u001b[39;1m$query\u001b[0m\u001b[35;1m, \u001b[0m\u001b[39;1m$this\u001b[0m\u001b[35;1m->\u001b[0m\u001b[39;1mprepareBindings\u001b[0m\u001b[35;1m(\u001b[0m\u001b[39;1m$bindings\u001b[0m\u001b[35;1m), \u001b[0m\u001b[39;1m$e\u001b[0m\n",
      "    \u001b[90m810\u001b[0m\u001b[90m▕ \u001b[0m\u001b[39;1m                \u001b[0m\u001b[35;1m);\u001b[0m\n",
      "    \u001b[90m811\u001b[0m\u001b[90m▕ \u001b[0m\u001b[35;1m            }\u001b[0m\n",
      "    \u001b[90m812\u001b[0m\u001b[90m▕ \u001b[0m\n",
      "\u001b[31;1m  ➜ \u001b[0m\u001b[3;1m813\u001b[0m\u001b[90m▕ \u001b[0m\u001b[35;1m            throw new \u001b[0m\u001b[39;1mQueryException\u001b[0m\u001b[35;1m(\u001b[0m\n",
      "    \u001b[90m814\u001b[0m\u001b[90m▕ \u001b[0m\u001b[35;1m                \u001b[0m\u001b[39;1m$this\u001b[0m\u001b[35;1m->\u001b[0m\u001b[39;1mgetName\u001b[0m\u001b[35;1m(), \u001b[0m\u001b[39;1m$query\u001b[0m\u001b[35;1m, \u001b[0m\u001b[39;1m$this\u001b[0m\u001b[35;1m->\u001b[0m\u001b[39;1mprepareBindings\u001b[0m\u001b[35;1m(\u001b[0m\u001b[39;1m$bindings\u001b[0m\u001b[35;1m), \u001b[0m\u001b[39;1m$e\u001b[0m\n",
      "    \u001b[90m815\u001b[0m\u001b[90m▕ \u001b[0m\u001b[39;1m            \u001b[0m\u001b[35;1m);\u001b[0m\n",
      "    \u001b[90m816\u001b[0m\u001b[90m▕ \u001b[0m\u001b[35;1m        }\u001b[0m\n",
      "    \u001b[90m817\u001b[0m\u001b[90m▕ \u001b[0m\u001b[35;1m    }\u001b[0m\n",
      "\n",
      "      \u001b[2m+10 vendor frames \u001b[22m\n",
      "  \u001b[33m11  \u001b[39m\u001b[39;1mdatabase/migrations/2024_06_14_112116_create_intresteds_table.php\u001b[39;22m:\u001b[39;1m13\u001b[39;22m\n",
      "\n",
      "  \u001b[31m────────────────────────────────────────────────────────────────────────────\u001b[39m  \n",
      "  \u001b[41;1m FAILED \u001b[49;22m \u001b[1mTests\\Feature\\Auth\\PasswordResetTest\u001b[22m \u001b[90m>\u001b[39m reset pass… \u001b[41;1m QueryException \u001b[49;22m  \n",
      "\u001b[39;1m  SQLSTATE[42S01]: Base table or view already exists: 1050 Table 'participants' already exists (Connection: mysql, SQL: create table `participants` (`id` bigint unsigned not null auto_increment primary key, `event_id` int not null, `intrested_id` int not null, `created_at` timestamp null, `updated_at` timestamp null) default character set utf8mb4 collate 'utf8mb4_unicode_ci')\u001b[39;22m\n",
      "\n",
      "  at \u001b[32mvendor/laravel/framework/src/Illuminate/Database/Connection.php\u001b[39m:\u001b[32m813\u001b[39m\n",
      "    \u001b[90m809\u001b[0m\u001b[90m▕ \u001b[0m\u001b[35;1m                    \u001b[0m\u001b[39;1m$this\u001b[0m\u001b[35;1m->\u001b[0m\u001b[39;1mgetName\u001b[0m\u001b[35;1m(), \u001b[0m\u001b[39;1m$query\u001b[0m\u001b[35;1m, \u001b[0m\u001b[39;1m$this\u001b[0m\u001b[35;1m->\u001b[0m\u001b[39;1mprepareBindings\u001b[0m\u001b[35;1m(\u001b[0m\u001b[39;1m$bindings\u001b[0m\u001b[35;1m), \u001b[0m\u001b[39;1m$e\u001b[0m\n",
      "    \u001b[90m810\u001b[0m\u001b[90m▕ \u001b[0m\u001b[39;1m                \u001b[0m\u001b[35;1m);\u001b[0m\n",
      "    \u001b[90m811\u001b[0m\u001b[90m▕ \u001b[0m\u001b[35;1m            }\u001b[0m\n",
      "    \u001b[90m812\u001b[0m\u001b[90m▕ \u001b[0m\n",
      "\u001b[31;1m  ➜ \u001b[0m\u001b[3;1m813\u001b[0m\u001b[90m▕ \u001b[0m\u001b[35;1m            throw new \u001b[0m\u001b[39;1mQueryException\u001b[0m\u001b[35;1m(\u001b[0m\n",
      "    \u001b[90m814\u001b[0m\u001b[90m▕ \u001b[0m\u001b[35;1m                \u001b[0m\u001b[39;1m$this\u001b[0m\u001b[35;1m->\u001b[0m\u001b[39;1mgetName\u001b[0m\u001b[35;1m(), \u001b[0m\u001b[39;1m$query\u001b[0m\u001b[35;1m, \u001b[0m\u001b[39;1m$this\u001b[0m\u001b[35;1m->\u001b[0m\u001b[39;1mprepareBindings\u001b[0m\u001b[35;1m(\u001b[0m\u001b[39;1m$bindings\u001b[0m\u001b[35;1m), \u001b[0m\u001b[39;1m$e\u001b[0m\n",
      "    \u001b[90m815\u001b[0m\u001b[90m▕ \u001b[0m\u001b[39;1m            \u001b[0m\u001b[35;1m);\u001b[0m\n",
      "    \u001b[90m816\u001b[0m\u001b[90m▕ \u001b[0m\u001b[35;1m        }\u001b[0m\n",
      "    \u001b[90m817\u001b[0m\u001b[90m▕ \u001b[0m\u001b[35;1m    }\u001b[0m\n",
      "\n",
      "      \u001b[2m+10 vendor frames \u001b[22m\n",
      "  \u001b[33m11  \u001b[39m\u001b[39;1mdatabase/migrations/2024_06_14_112116_create_intresteds_table.php\u001b[39;22m:\u001b[39;1m13\u001b[39;22m\n",
      "\n",
      "  \u001b[31m────────────────────────────────────────────────────────────────────────────\u001b[39m  \n",
      "  \u001b[41;1m FAILED \u001b[49;22m \u001b[1mTests\\Feature\\Auth\\PasswordResetTest\u001b[22m \u001b[90m>\u001b[39m reset pass… \u001b[41;1m QueryException \u001b[49;22m  \n",
      "\u001b[39;1m  SQLSTATE[42S01]: Base table or view already exists: 1050 Table 'participants' already exists (Connection: mysql, SQL: create table `participants` (`id` bigint unsigned not null auto_increment primary key, `event_id` int not null, `intrested_id` int not null, `created_at` timestamp null, `updated_at` timestamp null) default character set utf8mb4 collate 'utf8mb4_unicode_ci')\u001b[39;22m\n",
      "\n",
      "  at \u001b[32mvendor/laravel/framework/src/Illuminate/Database/Connection.php\u001b[39m:\u001b[32m813\u001b[39m\n",
      "    \u001b[90m809\u001b[0m\u001b[90m▕ \u001b[0m\u001b[35;1m                    \u001b[0m\u001b[39;1m$this\u001b[0m\u001b[35;1m->\u001b[0m\u001b[39;1mgetName\u001b[0m\u001b[35;1m(), \u001b[0m\u001b[39;1m$query\u001b[0m\u001b[35;1m, \u001b[0m\u001b[39;1m$this\u001b[0m\u001b[35;1m->\u001b[0m\u001b[39;1mprepareBindings\u001b[0m\u001b[35;1m(\u001b[0m\u001b[39;1m$bindings\u001b[0m\u001b[35;1m), \u001b[0m\u001b[39;1m$e\u001b[0m\n",
      "    \u001b[90m810\u001b[0m\u001b[90m▕ \u001b[0m\u001b[39;1m                \u001b[0m\u001b[35;1m);\u001b[0m\n",
      "    \u001b[90m811\u001b[0m\u001b[90m▕ \u001b[0m\u001b[35;1m            }\u001b[0m\n",
      "    \u001b[90m812\u001b[0m\u001b[90m▕ \u001b[0m\n",
      "\u001b[31;1m  ➜ \u001b[0m\u001b[3;1m813\u001b[0m\u001b[90m▕ \u001b[0m\u001b[35;1m            throw new \u001b[0m\u001b[39;1mQueryException\u001b[0m\u001b[35;1m(\u001b[0m\n",
      "    \u001b[90m814\u001b[0m\u001b[90m▕ \u001b[0m\u001b[35;1m                \u001b[0m\u001b[39;1m$this\u001b[0m\u001b[35;1m->\u001b[0m\u001b[39;1mgetName\u001b[0m\u001b[35;1m(), \u001b[0m\u001b[39;1m$query\u001b[0m\u001b[35;1m, \u001b[0m\u001b[39;1m$this\u001b[0m\u001b[35;1m->\u001b[0m\u001b[39;1mprepareBindings\u001b[0m\u001b[35;1m(\u001b[0m\u001b[39;1m$bindings\u001b[0m\u001b[35;1m), \u001b[0m\u001b[39;1m$e\u001b[0m\n",
      "    \u001b[90m815\u001b[0m\u001b[90m▕ \u001b[0m\u001b[39;1m            \u001b[0m\u001b[35;1m);\u001b[0m\n",
      "    \u001b[90m816\u001b[0m\u001b[90m▕ \u001b[0m\u001b[35;1m        }\u001b[0m\n",
      "    \u001b[90m817\u001b[0m\u001b[90m▕ \u001b[0m\u001b[35;1m    }\u001b[0m\n",
      "\n",
      "      \u001b[2m+10 vendor frames \u001b[22m\n",
      "  \u001b[33m11  \u001b[39m\u001b[39;1mdatabase/migrations/2024_06_14_112116_create_intresteds_table.php\u001b[39;22m:\u001b[39;1m13\u001b[39;22m\n",
      "\n",
      "  \u001b[31m────────────────────────────────────────────────────────────────────────────\u001b[39m  \n",
      "  \u001b[41;1m FAILED \u001b[49;22m \u001b[1mTests\\Feature\\Auth\\PasswordResetTest\u001b[22m \u001b[90m>\u001b[39m reset pass… \u001b[41;1m QueryException \u001b[49;22m  \n",
      "\u001b[39;1m  SQLSTATE[42S01]: Base table or view already exists: 1050 Table 'participants' already exists (Connection: mysql, SQL: create table `participants` (`id` bigint unsigned not null auto_increment primary key, `event_id` int not null, `intrested_id` int not null, `created_at` timestamp null, `updated_at` timestamp null) default character set utf8mb4 collate 'utf8mb4_unicode_ci')\u001b[39;22m\n",
      "\n",
      "  at \u001b[32mvendor/laravel/framework/src/Illuminate/Database/Connection.php\u001b[39m:\u001b[32m813\u001b[39m\n",
      "    \u001b[90m809\u001b[0m\u001b[90m▕ \u001b[0m\u001b[35;1m                    \u001b[0m\u001b[39;1m$this\u001b[0m\u001b[35;1m->\u001b[0m\u001b[39;1mgetName\u001b[0m\u001b[35;1m(), \u001b[0m\u001b[39;1m$query\u001b[0m\u001b[35;1m, \u001b[0m\u001b[39;1m$this\u001b[0m\u001b[35;1m->\u001b[0m\u001b[39;1mprepareBindings\u001b[0m\u001b[35;1m(\u001b[0m\u001b[39;1m$bindings\u001b[0m\u001b[35;1m), \u001b[0m\u001b[39;1m$e\u001b[0m\n",
      "    \u001b[90m810\u001b[0m\u001b[90m▕ \u001b[0m\u001b[39;1m                \u001b[0m\u001b[35;1m);\u001b[0m\n",
      "    \u001b[90m811\u001b[0m\u001b[90m▕ \u001b[0m\u001b[35;1m            }\u001b[0m\n",
      "    \u001b[90m812\u001b[0m\u001b[90m▕ \u001b[0m\n",
      "\u001b[31;1m  ➜ \u001b[0m\u001b[3;1m813\u001b[0m\u001b[90m▕ \u001b[0m\u001b[35;1m            throw new \u001b[0m\u001b[39;1mQueryException\u001b[0m\u001b[35;1m(\u001b[0m\n",
      "    \u001b[90m814\u001b[0m\u001b[90m▕ \u001b[0m\u001b[35;1m                \u001b[0m\u001b[39;1m$this\u001b[0m\u001b[35;1m->\u001b[0m\u001b[39;1mgetName\u001b[0m\u001b[35;1m(), \u001b[0m\u001b[39;1m$query\u001b[0m\u001b[35;1m, \u001b[0m\u001b[39;1m$this\u001b[0m\u001b[35;1m->\u001b[0m\u001b[39;1mprepareBindings\u001b[0m\u001b[35;1m(\u001b[0m\u001b[39;1m$bindings\u001b[0m\u001b[35;1m), \u001b[0m\u001b[39;1m$e\u001b[0m\n",
      "    \u001b[90m815\u001b[0m\u001b[90m▕ \u001b[0m\u001b[39;1m            \u001b[0m\u001b[35;1m);\u001b[0m\n",
      "    \u001b[90m816\u001b[0m\u001b[90m▕ \u001b[0m\u001b[35;1m        }\u001b[0m\n",
      "    \u001b[90m817\u001b[0m\u001b[90m▕ \u001b[0m\u001b[35;1m    }\u001b[0m\n",
      "\n",
      "      \u001b[2m+10 vendor frames \u001b[22m\n",
      "  \u001b[33m11  \u001b[39m\u001b[39;1mdatabase/migrations/2024_06_14_112116_create_intresteds_table.php\u001b[39;22m:\u001b[39;1m13\u001b[39;22m\n",
      "\n",
      "  \u001b[31m────────────────────────────────────────────────────────────────────────────\u001b[39m  \n",
      "  \u001b[41;1m FAILED \u001b[49;22m \u001b[1mTests\\Feature\\Auth\\PasswordResetTest\u001b[22m \u001b[90m>\u001b[39m password c… \u001b[41;1m QueryException \u001b[49;22m  \n",
      "\u001b[39;1m  SQLSTATE[42S01]: Base table or view already exists: 1050 Table 'participants' already exists (Connection: mysql, SQL: create table `participants` (`id` bigint unsigned not null auto_increment primary key, `event_id` int not null, `intrested_id` int not null, `created_at` timestamp null, `updated_at` timestamp null) default character set utf8mb4 collate 'utf8mb4_unicode_ci')\u001b[39;22m\n",
      "\n",
      "  at \u001b[32mvendor/laravel/framework/src/Illuminate/Database/Connection.php\u001b[39m:\u001b[32m813\u001b[39m\n",
      "    \u001b[90m809\u001b[0m\u001b[90m▕ \u001b[0m\u001b[35;1m                    \u001b[0m\u001b[39;1m$this\u001b[0m\u001b[35;1m->\u001b[0m\u001b[39;1mgetName\u001b[0m\u001b[35;1m(), \u001b[0m\u001b[39;1m$query\u001b[0m\u001b[35;1m, \u001b[0m\u001b[39;1m$this\u001b[0m\u001b[35;1m->\u001b[0m\u001b[39;1mprepareBindings\u001b[0m\u001b[35;1m(\u001b[0m\u001b[39;1m$bindings\u001b[0m\u001b[35;1m), \u001b[0m\u001b[39;1m$e\u001b[0m\n",
      "    \u001b[90m810\u001b[0m\u001b[90m▕ \u001b[0m\u001b[39;1m                \u001b[0m\u001b[35;1m);\u001b[0m\n",
      "    \u001b[90m811\u001b[0m\u001b[90m▕ \u001b[0m\u001b[35;1m            }\u001b[0m\n",
      "    \u001b[90m812\u001b[0m\u001b[90m▕ \u001b[0m\n",
      "\u001b[31;1m  ➜ \u001b[0m\u001b[3;1m813\u001b[0m\u001b[90m▕ \u001b[0m\u001b[35;1m            throw new \u001b[0m\u001b[39;1mQueryException\u001b[0m\u001b[35;1m(\u001b[0m\n",
      "    \u001b[90m814\u001b[0m\u001b[90m▕ \u001b[0m\u001b[35;1m                \u001b[0m\u001b[39;1m$this\u001b[0m\u001b[35;1m->\u001b[0m\u001b[39;1mgetName\u001b[0m\u001b[35;1m(), \u001b[0m\u001b[39;1m$query\u001b[0m\u001b[35;1m, \u001b[0m\u001b[39;1m$this\u001b[0m\u001b[35;1m->\u001b[0m\u001b[39;1mprepareBindings\u001b[0m\u001b[35;1m(\u001b[0m\u001b[39;1m$bindings\u001b[0m\u001b[35;1m), \u001b[0m\u001b[39;1m$e\u001b[0m\n",
      "    \u001b[90m815\u001b[0m\u001b[90m▕ \u001b[0m\u001b[39;1m            \u001b[0m\u001b[35;1m);\u001b[0m\n",
      "    \u001b[90m816\u001b[0m\u001b[90m▕ \u001b[0m\u001b[35;1m        }\u001b[0m\n",
      "    \u001b[90m817\u001b[0m\u001b[90m▕ \u001b[0m\u001b[35;1m    }\u001b[0m\n",
      "\n",
      "      \u001b[2m+10 vendor frames \u001b[22m\n",
      "  \u001b[33m11  \u001b[39m\u001b[39;1mdatabase/migrations/2024_06_14_112116_create_intresteds_table.php\u001b[39;22m:\u001b[39;1m13\u001b[39;22m\n",
      "\n",
      "  \u001b[31m────────────────────────────────────────────────────────────────────────────\u001b[39m  \n",
      "  \u001b[41;1m FAILED \u001b[49;22m \u001b[1mTests\\Feature\\Auth\\PasswordUpdateTest\u001b[22m \u001b[90m>\u001b[39m password…  \u001b[41;1m QueryException \u001b[49;22m  \n",
      "\u001b[39;1m  SQLSTATE[42S01]: Base table or view already exists: 1050 Table 'participants' already exists (Connection: mysql, SQL: create table `participants` (`id` bigint unsigned not null auto_increment primary key, `event_id` int not null, `intrested_id` int not null, `created_at` timestamp null, `updated_at` timestamp null) default character set utf8mb4 collate 'utf8mb4_unicode_ci')\u001b[39;22m\n",
      "\n",
      "  at \u001b[32mvendor/laravel/framework/src/Illuminate/Database/Connection.php\u001b[39m:\u001b[32m813\u001b[39m\n",
      "    \u001b[90m809\u001b[0m\u001b[90m▕ \u001b[0m\u001b[35;1m                    \u001b[0m\u001b[39;1m$this\u001b[0m\u001b[35;1m->\u001b[0m\u001b[39;1mgetName\u001b[0m\u001b[35;1m(), \u001b[0m\u001b[39;1m$query\u001b[0m\u001b[35;1m, \u001b[0m\u001b[39;1m$this\u001b[0m\u001b[35;1m->\u001b[0m\u001b[39;1mprepareBindings\u001b[0m\u001b[35;1m(\u001b[0m\u001b[39;1m$bindings\u001b[0m\u001b[35;1m), \u001b[0m\u001b[39;1m$e\u001b[0m\n",
      "    \u001b[90m810\u001b[0m\u001b[90m▕ \u001b[0m\u001b[39;1m                \u001b[0m\u001b[35;1m);\u001b[0m\n",
      "    \u001b[90m811\u001b[0m\u001b[90m▕ \u001b[0m\u001b[35;1m            }\u001b[0m\n",
      "    \u001b[90m812\u001b[0m\u001b[90m▕ \u001b[0m\n",
      "\u001b[31;1m  ➜ \u001b[0m\u001b[3;1m813\u001b[0m\u001b[90m▕ \u001b[0m\u001b[35;1m            throw new \u001b[0m\u001b[39;1mQueryException\u001b[0m\u001b[35;1m(\u001b[0m\n",
      "    \u001b[90m814\u001b[0m\u001b[90m▕ \u001b[0m\u001b[35;1m                \u001b[0m\u001b[39;1m$this\u001b[0m\u001b[35;1m->\u001b[0m\u001b[39;1mgetName\u001b[0m\u001b[35;1m(), \u001b[0m\u001b[39;1m$query\u001b[0m\u001b[35;1m, \u001b[0m\u001b[39;1m$this\u001b[0m\u001b[35;1m->\u001b[0m\u001b[39;1mprepareBindings\u001b[0m\u001b[35;1m(\u001b[0m\u001b[39;1m$bindings\u001b[0m\u001b[35;1m), \u001b[0m\u001b[39;1m$e\u001b[0m\n",
      "    \u001b[90m815\u001b[0m\u001b[90m▕ \u001b[0m\u001b[39;1m            \u001b[0m\u001b[35;1m);\u001b[0m\n",
      "    \u001b[90m816\u001b[0m\u001b[90m▕ \u001b[0m\u001b[35;1m        }\u001b[0m\n",
      "    \u001b[90m817\u001b[0m\u001b[90m▕ \u001b[0m\u001b[35;1m    }\u001b[0m\n",
      "\n",
      "      \u001b[2m+10 vendor frames \u001b[22m\n",
      "  \u001b[33m11  \u001b[39m\u001b[39;1mdatabase/migrations/2024_06_14_112116_create_intresteds_table.php\u001b[39;22m:\u001b[39;1m13\u001b[39;22m\n",
      "\n",
      "  \u001b[31m────────────────────────────────────────────────────────────────────────────\u001b[39m  \n",
      "  \u001b[41;1m FAILED \u001b[49;22m \u001b[1mTests\\Feature\\Auth\\PasswordUpdateTest\u001b[22m \u001b[90m>\u001b[39m correct p… \u001b[41;1m QueryException \u001b[49;22m  \n",
      "\u001b[39;1m  SQLSTATE[42S01]: Base table or view already exists: 1050 Table 'participants' already exists (Connection: mysql, SQL: create table `participants` (`id` bigint unsigned not null auto_increment primary key, `event_id` int not null, `intrested_id` int not null, `created_at` timestamp null, `updated_at` timestamp null) default character set utf8mb4 collate 'utf8mb4_unicode_ci')\u001b[39;22m\n",
      "\n",
      "  at \u001b[32mvendor/laravel/framework/src/Illuminate/Database/Connection.php\u001b[39m:\u001b[32m813\u001b[39m\n",
      "    \u001b[90m809\u001b[0m\u001b[90m▕ \u001b[0m\u001b[35;1m                    \u001b[0m\u001b[39;1m$this\u001b[0m\u001b[35;1m->\u001b[0m\u001b[39;1mgetName\u001b[0m\u001b[35;1m(), \u001b[0m\u001b[39;1m$query\u001b[0m\u001b[35;1m, \u001b[0m\u001b[39;1m$this\u001b[0m\u001b[35;1m->\u001b[0m\u001b[39;1mprepareBindings\u001b[0m\u001b[35;1m(\u001b[0m\u001b[39;1m$bindings\u001b[0m\u001b[35;1m), \u001b[0m\u001b[39;1m$e\u001b[0m\n",
      "    \u001b[90m810\u001b[0m\u001b[90m▕ \u001b[0m\u001b[39;1m                \u001b[0m\u001b[35;1m);\u001b[0m\n",
      "    \u001b[90m811\u001b[0m\u001b[90m▕ \u001b[0m\u001b[35;1m            }\u001b[0m\n",
      "    \u001b[90m812\u001b[0m\u001b[90m▕ \u001b[0m\n",
      "\u001b[31;1m  ➜ \u001b[0m\u001b[3;1m813\u001b[0m\u001b[90m▕ \u001b[0m\u001b[35;1m            throw new \u001b[0m\u001b[39;1mQueryException\u001b[0m\u001b[35;1m(\u001b[0m\n",
      "    \u001b[90m814\u001b[0m\u001b[90m▕ \u001b[0m\u001b[35;1m                \u001b[0m\u001b[39;1m$this\u001b[0m\u001b[35;1m->\u001b[0m\u001b[39;1mgetName\u001b[0m\u001b[35;1m(), \u001b[0m\u001b[39;1m$query\u001b[0m\u001b[35;1m, \u001b[0m\u001b[39;1m$this\u001b[0m\u001b[35;1m->\u001b[0m\u001b[39;1mprepareBindings\u001b[0m\u001b[35;1m(\u001b[0m\u001b[39;1m$bindings\u001b[0m\u001b[35;1m), \u001b[0m\u001b[39;1m$e\u001b[0m\n",
      "    \u001b[90m815\u001b[0m\u001b[90m▕ \u001b[0m\u001b[39;1m            \u001b[0m\u001b[35;1m);\u001b[0m\n",
      "    \u001b[90m816\u001b[0m\u001b[90m▕ \u001b[0m\u001b[35;1m        }\u001b[0m\n",
      "    \u001b[90m817\u001b[0m\u001b[90m▕ \u001b[0m\u001b[35;1m    }\u001b[0m\n",
      "\n",
      "      \u001b[2m+10 vendor frames \u001b[22m\n",
      "  \u001b[33m11  \u001b[39m\u001b[39;1mdatabase/migrations/2024_06_14_112116_create_intresteds_table.php\u001b[39;22m:\u001b[39;1m13\u001b[39;22m\n",
      "\n",
      "  \u001b[31m────────────────────────────────────────────────────────────────────────────\u001b[39m  \n",
      "  \u001b[41;1m FAILED \u001b[49;22m \u001b[1mTests\\Feature\\Auth\\RegistrationTest\u001b[22m \u001b[90m>\u001b[39m registratio… \u001b[41;1m QueryException \u001b[49;22m  \n",
      "\u001b[39;1m  SQLSTATE[42S01]: Base table or view already exists: 1050 Table 'participants' already exists (Connection: mysql, SQL: create table `participants` (`id` bigint unsigned not null auto_increment primary key, `event_id` int not null, `intrested_id` int not null, `created_at` timestamp null, `updated_at` timestamp null) default character set utf8mb4 collate 'utf8mb4_unicode_ci')\u001b[39;22m\n",
      "\n",
      "  at \u001b[32mvendor/laravel/framework/src/Illuminate/Database/Connection.php\u001b[39m:\u001b[32m813\u001b[39m\n",
      "    \u001b[90m809\u001b[0m\u001b[90m▕ \u001b[0m\u001b[35;1m                    \u001b[0m\u001b[39;1m$this\u001b[0m\u001b[35;1m->\u001b[0m\u001b[39;1mgetName\u001b[0m\u001b[35;1m(), \u001b[0m\u001b[39;1m$query\u001b[0m\u001b[35;1m, \u001b[0m\u001b[39;1m$this\u001b[0m\u001b[35;1m->\u001b[0m\u001b[39;1mprepareBindings\u001b[0m\u001b[35;1m(\u001b[0m\u001b[39;1m$bindings\u001b[0m\u001b[35;1m), \u001b[0m\u001b[39;1m$e\u001b[0m\n",
      "    \u001b[90m810\u001b[0m\u001b[90m▕ \u001b[0m\u001b[39;1m                \u001b[0m\u001b[35;1m);\u001b[0m\n",
      "    \u001b[90m811\u001b[0m\u001b[90m▕ \u001b[0m\u001b[35;1m            }\u001b[0m\n",
      "    \u001b[90m812\u001b[0m\u001b[90m▕ \u001b[0m\n",
      "\u001b[31;1m  ➜ \u001b[0m\u001b[3;1m813\u001b[0m\u001b[90m▕ \u001b[0m\u001b[35;1m            throw new \u001b[0m\u001b[39;1mQueryException\u001b[0m\u001b[35;1m(\u001b[0m\n",
      "    \u001b[90m814\u001b[0m\u001b[90m▕ \u001b[0m\u001b[35;1m                \u001b[0m\u001b[39;1m$this\u001b[0m\u001b[35;1m->\u001b[0m\u001b[39;1mgetName\u001b[0m\u001b[35;1m(), \u001b[0m\u001b[39;1m$query\u001b[0m\u001b[35;1m, \u001b[0m\u001b[39;1m$this\u001b[0m\u001b[35;1m->\u001b[0m\u001b[39;1mprepareBindings\u001b[0m\u001b[35;1m(\u001b[0m\u001b[39;1m$bindings\u001b[0m\u001b[35;1m), \u001b[0m\u001b[39;1m$e\u001b[0m\n",
      "    \u001b[90m815\u001b[0m\u001b[90m▕ \u001b[0m\u001b[39;1m            \u001b[0m\u001b[35;1m);\u001b[0m\n",
      "    \u001b[90m816\u001b[0m\u001b[90m▕ \u001b[0m\u001b[35;1m        }\u001b[0m\n",
      "    \u001b[90m817\u001b[0m\u001b[90m▕ \u001b[0m\u001b[35;1m    }\u001b[0m\n",
      "\n",
      "      \u001b[2m+10 vendor frames \u001b[22m\n",
      "  \u001b[33m11  \u001b[39m\u001b[39;1mdatabase/migrations/2024_06_14_112116_create_intresteds_table.php\u001b[39;22m:\u001b[39;1m13\u001b[39;22m\n",
      "\n",
      "  \u001b[31m────────────────────────────────────────────────────────────────────────────\u001b[39m  \n",
      "  \u001b[41;1m FAILED \u001b[49;22m \u001b[1mTests\\Feature\\Auth\\RegistrationTest\u001b[22m \u001b[90m>\u001b[39m new users c… \u001b[41;1m QueryException \u001b[49;22m  \n",
      "\u001b[39;1m  SQLSTATE[42S01]: Base table or view already exists: 1050 Table 'participants' already exists (Connection: mysql, SQL: create table `participants` (`id` bigint unsigned not null auto_increment primary key, `event_id` int not null, `intrested_id` int not null, `created_at` timestamp null, `updated_at` timestamp null) default character set utf8mb4 collate 'utf8mb4_unicode_ci')\u001b[39;22m\n",
      "\n",
      "  at \u001b[32mvendor/laravel/framework/src/Illuminate/Database/Connection.php\u001b[39m:\u001b[32m813\u001b[39m\n",
      "    \u001b[90m809\u001b[0m\u001b[90m▕ \u001b[0m\u001b[35;1m                    \u001b[0m\u001b[39;1m$this\u001b[0m\u001b[35;1m->\u001b[0m\u001b[39;1mgetName\u001b[0m\u001b[35;1m(), \u001b[0m\u001b[39;1m$query\u001b[0m\u001b[35;1m, \u001b[0m\u001b[39;1m$this\u001b[0m\u001b[35;1m->\u001b[0m\u001b[39;1mprepareBindings\u001b[0m\u001b[35;1m(\u001b[0m\u001b[39;1m$bindings\u001b[0m\u001b[35;1m), \u001b[0m\u001b[39;1m$e\u001b[0m\n",
      "    \u001b[90m810\u001b[0m\u001b[90m▕ \u001b[0m\u001b[39;1m                \u001b[0m\u001b[35;1m);\u001b[0m\n",
      "    \u001b[90m811\u001b[0m\u001b[90m▕ \u001b[0m\u001b[35;1m            }\u001b[0m\n",
      "    \u001b[90m812\u001b[0m\u001b[90m▕ \u001b[0m\n",
      "\u001b[31;1m  ➜ \u001b[0m\u001b[3;1m813\u001b[0m\u001b[90m▕ \u001b[0m\u001b[35;1m            throw new \u001b[0m\u001b[39;1mQueryException\u001b[0m\u001b[35;1m(\u001b[0m\n",
      "    \u001b[90m814\u001b[0m\u001b[90m▕ \u001b[0m\u001b[35;1m                \u001b[0m\u001b[39;1m$this\u001b[0m\u001b[35;1m->\u001b[0m\u001b[39;1mgetName\u001b[0m\u001b[35;1m(), \u001b[0m\u001b[39;1m$query\u001b[0m\u001b[35;1m, \u001b[0m\u001b[39;1m$this\u001b[0m\u001b[35;1m->\u001b[0m\u001b[39;1mprepareBindings\u001b[0m\u001b[35;1m(\u001b[0m\u001b[39;1m$bindings\u001b[0m\u001b[35;1m), \u001b[0m\u001b[39;1m$e\u001b[0m\n",
      "    \u001b[90m815\u001b[0m\u001b[90m▕ \u001b[0m\u001b[39;1m            \u001b[0m\u001b[35;1m);\u001b[0m\n",
      "    \u001b[90m816\u001b[0m\u001b[90m▕ \u001b[0m\u001b[35;1m        }\u001b[0m\n",
      "    \u001b[90m817\u001b[0m\u001b[90m▕ \u001b[0m\u001b[35;1m    }\u001b[0m\n",
      "\n",
      "      \u001b[2m+10 vendor frames \u001b[22m\n",
      "  \u001b[33m11  \u001b[39m\u001b[39;1mdatabase/migrations/2024_06_14_112116_create_intresteds_table.php\u001b[39;22m:\u001b[39;1m13\u001b[39;22m\n",
      "\n",
      "  \u001b[31m────────────────────────────────────────────────────────────────────────────\u001b[39m  \n",
      "  \u001b[41;1m FAILED \u001b[49;22m \u001b[1mTests\\Feature\\ProfileTest\u001b[22m \u001b[90m>\u001b[39m profile page is displ… \u001b[41;1m QueryException \u001b[49;22m  \n",
      "\u001b[39;1m  SQLSTATE[42S01]: Base table or view already exists: 1050 Table 'participants' already exists (Connection: mysql, SQL: create table `participants` (`id` bigint unsigned not null auto_increment primary key, `event_id` int not null, `intrested_id` int not null, `created_at` timestamp null, `updated_at` timestamp null) default character set utf8mb4 collate 'utf8mb4_unicode_ci')\u001b[39;22m\n",
      "\n",
      "  at \u001b[32mvendor/laravel/framework/src/Illuminate/Database/Connection.php\u001b[39m:\u001b[32m813\u001b[39m\n",
      "    \u001b[90m809\u001b[0m\u001b[90m▕ \u001b[0m\u001b[35;1m                    \u001b[0m\u001b[39;1m$this\u001b[0m\u001b[35;1m->\u001b[0m\u001b[39;1mgetName\u001b[0m\u001b[35;1m(), \u001b[0m\u001b[39;1m$query\u001b[0m\u001b[35;1m, \u001b[0m\u001b[39;1m$this\u001b[0m\u001b[35;1m->\u001b[0m\u001b[39;1mprepareBindings\u001b[0m\u001b[35;1m(\u001b[0m\u001b[39;1m$bindings\u001b[0m\u001b[35;1m), \u001b[0m\u001b[39;1m$e\u001b[0m\n",
      "    \u001b[90m810\u001b[0m\u001b[90m▕ \u001b[0m\u001b[39;1m                \u001b[0m\u001b[35;1m);\u001b[0m\n",
      "    \u001b[90m811\u001b[0m\u001b[90m▕ \u001b[0m\u001b[35;1m            }\u001b[0m\n",
      "    \u001b[90m812\u001b[0m\u001b[90m▕ \u001b[0m\n",
      "\u001b[31;1m  ➜ \u001b[0m\u001b[3;1m813\u001b[0m\u001b[90m▕ \u001b[0m\u001b[35;1m            throw new \u001b[0m\u001b[39;1mQueryException\u001b[0m\u001b[35;1m(\u001b[0m\n",
      "    \u001b[90m814\u001b[0m\u001b[90m▕ \u001b[0m\u001b[35;1m                \u001b[0m\u001b[39;1m$this\u001b[0m\u001b[35;1m->\u001b[0m\u001b[39;1mgetName\u001b[0m\u001b[35;1m(), \u001b[0m\u001b[39;1m$query\u001b[0m\u001b[35;1m, \u001b[0m\u001b[39;1m$this\u001b[0m\u001b[35;1m->\u001b[0m\u001b[39;1mprepareBindings\u001b[0m\u001b[35;1m(\u001b[0m\u001b[39;1m$bindings\u001b[0m\u001b[35;1m), \u001b[0m\u001b[39;1m$e\u001b[0m\n",
      "    \u001b[90m815\u001b[0m\u001b[90m▕ \u001b[0m\u001b[39;1m            \u001b[0m\u001b[35;1m);\u001b[0m\n",
      "    \u001b[90m816\u001b[0m\u001b[90m▕ \u001b[0m\u001b[35;1m        }\u001b[0m\n",
      "    \u001b[90m817\u001b[0m\u001b[90m▕ \u001b[0m\u001b[35;1m    }\u001b[0m\n",
      "\n",
      "      \u001b[2m+10 vendor frames \u001b[22m\n",
      "  \u001b[33m11  \u001b[39m\u001b[39;1mdatabase/migrations/2024_06_14_112116_create_intresteds_table.php\u001b[39;22m:\u001b[39;1m13\u001b[39;22m\n",
      "\n",
      "  \u001b[31m────────────────────────────────────────────────────────────────────────────\u001b[39m  \n",
      "  \u001b[41;1m FAILED \u001b[49;22m \u001b[1mTests\\Feature\\ProfileTest\u001b[22m \u001b[90m>\u001b[39m profile information c… \u001b[41;1m QueryException \u001b[49;22m  \n",
      "\u001b[39;1m  SQLSTATE[42S01]: Base table or view already exists: 1050 Table 'participants' already exists (Connection: mysql, SQL: create table `participants` (`id` bigint unsigned not null auto_increment primary key, `event_id` int not null, `intrested_id` int not null, `created_at` timestamp null, `updated_at` timestamp null) default character set utf8mb4 collate 'utf8mb4_unicode_ci')\u001b[39;22m\n",
      "\n",
      "  at \u001b[32mvendor/laravel/framework/src/Illuminate/Database/Connection.php\u001b[39m:\u001b[32m813\u001b[39m\n",
      "    \u001b[90m809\u001b[0m\u001b[90m▕ \u001b[0m\u001b[35;1m                    \u001b[0m\u001b[39;1m$this\u001b[0m\u001b[35;1m->\u001b[0m\u001b[39;1mgetName\u001b[0m\u001b[35;1m(), \u001b[0m\u001b[39;1m$query\u001b[0m\u001b[35;1m, \u001b[0m\u001b[39;1m$this\u001b[0m\u001b[35;1m->\u001b[0m\u001b[39;1mprepareBindings\u001b[0m\u001b[35;1m(\u001b[0m\u001b[39;1m$bindings\u001b[0m\u001b[35;1m), \u001b[0m\u001b[39;1m$e\u001b[0m\n",
      "    \u001b[90m810\u001b[0m\u001b[90m▕ \u001b[0m\u001b[39;1m                \u001b[0m\u001b[35;1m);\u001b[0m\n",
      "    \u001b[90m811\u001b[0m\u001b[90m▕ \u001b[0m\u001b[35;1m            }\u001b[0m\n",
      "    \u001b[90m812\u001b[0m\u001b[90m▕ \u001b[0m\n",
      "\u001b[31;1m  ➜ \u001b[0m\u001b[3;1m813\u001b[0m\u001b[90m▕ \u001b[0m\u001b[35;1m            throw new \u001b[0m\u001b[39;1mQueryException\u001b[0m\u001b[35;1m(\u001b[0m\n",
      "    \u001b[90m814\u001b[0m\u001b[90m▕ \u001b[0m\u001b[35;1m                \u001b[0m\u001b[39;1m$this\u001b[0m\u001b[35;1m->\u001b[0m\u001b[39;1mgetName\u001b[0m\u001b[35;1m(), \u001b[0m\u001b[39;1m$query\u001b[0m\u001b[35;1m, \u001b[0m\u001b[39;1m$this\u001b[0m\u001b[35;1m->\u001b[0m\u001b[39;1mprepareBindings\u001b[0m\u001b[35;1m(\u001b[0m\u001b[39;1m$bindings\u001b[0m\u001b[35;1m), \u001b[0m\u001b[39;1m$e\u001b[0m\n",
      "    \u001b[90m815\u001b[0m\u001b[90m▕ \u001b[0m\u001b[39;1m            \u001b[0m\u001b[35;1m);\u001b[0m\n",
      "    \u001b[90m816\u001b[0m\u001b[90m▕ \u001b[0m\u001b[35;1m        }\u001b[0m\n",
      "    \u001b[90m817\u001b[0m\u001b[90m▕ \u001b[0m\u001b[35;1m    }\u001b[0m\n",
      "\n",
      "      \u001b[2m+10 vendor frames \u001b[22m\n",
      "  \u001b[33m11  \u001b[39m\u001b[39;1mdatabase/migrations/2024_06_14_112116_create_intresteds_table.php\u001b[39;22m:\u001b[39;1m13\u001b[39;22m\n",
      "\n",
      "  \u001b[31m────────────────────────────────────────────────────────────────────────────\u001b[39m  \n",
      "  \u001b[41;1m FAILED \u001b[49;22m \u001b[1mTests\\Feature\\ProfileTest\u001b[22m \u001b[90m>\u001b[39m email verification st… \u001b[41;1m QueryException \u001b[49;22m  \n",
      "\u001b[39;1m  SQLSTATE[42S01]: Base table or view already exists: 1050 Table 'participants' already exists (Connection: mysql, SQL: create table `participants` (`id` bigint unsigned not null auto_increment primary key, `event_id` int not null, `intrested_id` int not null, `created_at` timestamp null, `updated_at` timestamp null) default character set utf8mb4 collate 'utf8mb4_unicode_ci')\u001b[39;22m\n",
      "\n",
      "  at \u001b[32mvendor/laravel/framework/src/Illuminate/Database/Connection.php\u001b[39m:\u001b[32m813\u001b[39m\n",
      "    \u001b[90m809\u001b[0m\u001b[90m▕ \u001b[0m\u001b[35;1m                    \u001b[0m\u001b[39;1m$this\u001b[0m\u001b[35;1m->\u001b[0m\u001b[39;1mgetName\u001b[0m\u001b[35;1m(), \u001b[0m\u001b[39;1m$query\u001b[0m\u001b[35;1m, \u001b[0m\u001b[39;1m$this\u001b[0m\u001b[35;1m->\u001b[0m\u001b[39;1mprepareBindings\u001b[0m\u001b[35;1m(\u001b[0m\u001b[39;1m$bindings\u001b[0m\u001b[35;1m), \u001b[0m\u001b[39;1m$e\u001b[0m\n",
      "    \u001b[90m810\u001b[0m\u001b[90m▕ \u001b[0m\u001b[39;1m                \u001b[0m\u001b[35;1m);\u001b[0m\n",
      "    \u001b[90m811\u001b[0m\u001b[90m▕ \u001b[0m\u001b[35;1m            }\u001b[0m\n",
      "    \u001b[90m812\u001b[0m\u001b[90m▕ \u001b[0m\n",
      "\u001b[31;1m  ➜ \u001b[0m\u001b[3;1m813\u001b[0m\u001b[90m▕ \u001b[0m\u001b[35;1m            throw new \u001b[0m\u001b[39;1mQueryException\u001b[0m\u001b[35;1m(\u001b[0m\n",
      "    \u001b[90m814\u001b[0m\u001b[90m▕ \u001b[0m\u001b[35;1m                \u001b[0m\u001b[39;1m$this\u001b[0m\u001b[35;1m->\u001b[0m\u001b[39;1mgetName\u001b[0m\u001b[35;1m(), \u001b[0m\u001b[39;1m$query\u001b[0m\u001b[35;1m, \u001b[0m\u001b[39;1m$this\u001b[0m\u001b[35;1m->\u001b[0m\u001b[39;1mprepareBindings\u001b[0m\u001b[35;1m(\u001b[0m\u001b[39;1m$bindings\u001b[0m\u001b[35;1m), \u001b[0m\u001b[39;1m$e\u001b[0m\n",
      "    \u001b[90m815\u001b[0m\u001b[90m▕ \u001b[0m\u001b[39;1m            \u001b[0m\u001b[35;1m);\u001b[0m\n",
      "    \u001b[90m816\u001b[0m\u001b[90m▕ \u001b[0m\u001b[35;1m        }\u001b[0m\n",
      "    \u001b[90m817\u001b[0m\u001b[90m▕ \u001b[0m\u001b[35;1m    }\u001b[0m\n",
      "\n",
      "      \u001b[2m+10 vendor frames \u001b[22m\n",
      "  \u001b[33m11  \u001b[39m\u001b[39;1mdatabase/migrations/2024_06_14_112116_create_intresteds_table.php\u001b[39;22m:\u001b[39;1m13\u001b[39;22m\n",
      "\n",
      "  \u001b[31m────────────────────────────────────────────────────────────────────────────\u001b[39m  \n",
      "  \u001b[41;1m FAILED \u001b[49;22m \u001b[1mTests\\Feature\\ProfileTest\u001b[22m \u001b[90m>\u001b[39m user can delete their… \u001b[41;1m QueryException \u001b[49;22m  \n",
      "\u001b[39;1m  SQLSTATE[42S01]: Base table or view already exists: 1050 Table 'participants' already exists (Connection: mysql, SQL: create table `participants` (`id` bigint unsigned not null auto_increment primary key, `event_id` int not null, `intrested_id` int not null, `created_at` timestamp null, `updated_at` timestamp null) default character set utf8mb4 collate 'utf8mb4_unicode_ci')\u001b[39;22m\n",
      "\n",
      "  at \u001b[32mvendor/laravel/framework/src/Illuminate/Database/Connection.php\u001b[39m:\u001b[32m813\u001b[39m\n",
      "    \u001b[90m809\u001b[0m\u001b[90m▕ \u001b[0m\u001b[35;1m                    \u001b[0m\u001b[39;1m$this\u001b[0m\u001b[35;1m->\u001b[0m\u001b[39;1mgetName\u001b[0m\u001b[35;1m(), \u001b[0m\u001b[39;1m$query\u001b[0m\u001b[35;1m, \u001b[0m\u001b[39;1m$this\u001b[0m\u001b[35;1m->\u001b[0m\u001b[39;1mprepareBindings\u001b[0m\u001b[35;1m(\u001b[0m\u001b[39;1m$bindings\u001b[0m\u001b[35;1m), \u001b[0m\u001b[39;1m$e\u001b[0m\n",
      "    \u001b[90m810\u001b[0m\u001b[90m▕ \u001b[0m\u001b[39;1m                \u001b[0m\u001b[35;1m);\u001b[0m\n",
      "    \u001b[90m811\u001b[0m\u001b[90m▕ \u001b[0m\u001b[35;1m            }\u001b[0m\n",
      "    \u001b[90m812\u001b[0m\u001b[90m▕ \u001b[0m\n",
      "\u001b[31;1m  ➜ \u001b[0m\u001b[3;1m813\u001b[0m\u001b[90m▕ \u001b[0m\u001b[35;1m            throw new \u001b[0m\u001b[39;1mQueryException\u001b[0m\u001b[35;1m(\u001b[0m\n",
      "    \u001b[90m814\u001b[0m\u001b[90m▕ \u001b[0m\u001b[35;1m                \u001b[0m\u001b[39;1m$this\u001b[0m\u001b[35;1m->\u001b[0m\u001b[39;1mgetName\u001b[0m\u001b[35;1m(), \u001b[0m\u001b[39;1m$query\u001b[0m\u001b[35;1m, \u001b[0m\u001b[39;1m$this\u001b[0m\u001b[35;1m->\u001b[0m\u001b[39;1mprepareBindings\u001b[0m\u001b[35;1m(\u001b[0m\u001b[39;1m$bindings\u001b[0m\u001b[35;1m), \u001b[0m\u001b[39;1m$e\u001b[0m\n",
      "    \u001b[90m815\u001b[0m\u001b[90m▕ \u001b[0m\u001b[39;1m            \u001b[0m\u001b[35;1m);\u001b[0m\n",
      "    \u001b[90m816\u001b[0m\u001b[90m▕ \u001b[0m\u001b[35;1m        }\u001b[0m\n",
      "    \u001b[90m817\u001b[0m\u001b[90m▕ \u001b[0m\u001b[35;1m    }\u001b[0m\n",
      "\n",
      "      \u001b[2m+10 vendor frames \u001b[22m\n",
      "  \u001b[33m11  \u001b[39m\u001b[39;1mdatabase/migrations/2024_06_14_112116_create_intresteds_table.php\u001b[39;22m:\u001b[39;1m13\u001b[39;22m\n",
      "\n",
      "  \u001b[31m────────────────────────────────────────────────────────────────────────────\u001b[39m  \n",
      "  \u001b[41;1m FAILED \u001b[49;22m \u001b[1mTests\\Feature\\ProfileTest\u001b[22m \u001b[90m>\u001b[39m correct password must… \u001b[41;1m QueryException \u001b[49;22m  \n",
      "\u001b[39;1m  SQLSTATE[42S01]: Base table or view already exists: 1050 Table 'participants' already exists (Connection: mysql, SQL: create table `participants` (`id` bigint unsigned not null auto_increment primary key, `event_id` int not null, `intrested_id` int not null, `created_at` timestamp null, `updated_at` timestamp null) default character set utf8mb4 collate 'utf8mb4_unicode_ci')\u001b[39;22m\n",
      "\n",
      "  at \u001b[32mvendor/laravel/framework/src/Illuminate/Database/Connection.php\u001b[39m:\u001b[32m813\u001b[39m\n",
      "    \u001b[90m809\u001b[0m\u001b[90m▕ \u001b[0m\u001b[35;1m                    \u001b[0m\u001b[39;1m$this\u001b[0m\u001b[35;1m->\u001b[0m\u001b[39;1mgetName\u001b[0m\u001b[35;1m(), \u001b[0m\u001b[39;1m$query\u001b[0m\u001b[35;1m, \u001b[0m\u001b[39;1m$this\u001b[0m\u001b[35;1m->\u001b[0m\u001b[39;1mprepareBindings\u001b[0m\u001b[35;1m(\u001b[0m\u001b[39;1m$bindings\u001b[0m\u001b[35;1m), \u001b[0m\u001b[39;1m$e\u001b[0m\n",
      "    \u001b[90m810\u001b[0m\u001b[90m▕ \u001b[0m\u001b[39;1m                \u001b[0m\u001b[35;1m);\u001b[0m\n",
      "    \u001b[90m811\u001b[0m\u001b[90m▕ \u001b[0m\u001b[35;1m            }\u001b[0m\n",
      "    \u001b[90m812\u001b[0m\u001b[90m▕ \u001b[0m\n",
      "\u001b[31;1m  ➜ \u001b[0m\u001b[3;1m813\u001b[0m\u001b[90m▕ \u001b[0m\u001b[35;1m            throw new \u001b[0m\u001b[39;1mQueryException\u001b[0m\u001b[35;1m(\u001b[0m\n",
      "    \u001b[90m814\u001b[0m\u001b[90m▕ \u001b[0m\u001b[35;1m                \u001b[0m\u001b[39;1m$this\u001b[0m\u001b[35;1m->\u001b[0m\u001b[39;1mgetName\u001b[0m\u001b[35;1m(), \u001b[0m\u001b[39;1m$query\u001b[0m\u001b[35;1m, \u001b[0m\u001b[39;1m$this\u001b[0m\u001b[35;1m->\u001b[0m\u001b[39;1mprepareBindings\u001b[0m\u001b[35;1m(\u001b[0m\u001b[39;1m$bindings\u001b[0m\u001b[35;1m), \u001b[0m\u001b[39;1m$e\u001b[0m\n",
      "    \u001b[90m815\u001b[0m\u001b[90m▕ \u001b[0m\u001b[39;1m            \u001b[0m\u001b[35;1m);\u001b[0m\n",
      "    \u001b[90m816\u001b[0m\u001b[90m▕ \u001b[0m\u001b[35;1m        }\u001b[0m\n",
      "    \u001b[90m817\u001b[0m\u001b[90m▕ \u001b[0m\u001b[35;1m    }\u001b[0m\n",
      "\n",
      "      \u001b[2m+10 vendor frames \u001b[22m\n",
      "  \u001b[33m11  \u001b[39m\u001b[39;1mdatabase/migrations/2024_06_14_112116_create_intresteds_table.php\u001b[39;22m:\u001b[39;1m13\u001b[39;22m\n",
      "\n",
      "\n",
      "  \u001b[90mTests:\u001b[39m    \u001b[31;1m23 failed\u001b[39;22m\u001b[90m,\u001b[39m\u001b[39m \u001b[39m\u001b[32;1m2 passed\u001b[39;22m\u001b[90m (2 assertions)\u001b[39m\n",
      "  \u001b[90mDuration:\u001b[39m \u001b[39m45.72s\u001b[39m\n",
      "\n"
     ]
    }
   ],
   "source": [
    "! php artisan test"
   ]
  },
  {
   "cell_type": "code",
   "execution_count": 19,
   "metadata": {},
   "outputs": [],
   "source": [
    "import subprocess, os\n",
    "os.environ[\"PATH\"] += os.pathsep + '/opt/selenium/'\n",
    "seleniumServer = subprocess.Popen(['java', '-jar', 'selenium-server-4.18.0.jar', 'standalone'], cwd='/opt/selenium/')"
   ]
  },
  {
   "cell_type": "code",
   "execution_count": 20,
   "metadata": {},
   "outputs": [],
   "source": [
    "import subprocess\n",
    "artisanServe = subprocess.Popen(['php', 'artisan', 'serve', '--port', '8888'])"
   ]
  },
  {
   "cell_type": "code",
   "execution_count": 21,
   "metadata": {},
   "outputs": [
    {
     "name": "stdout",
     "output_type": "stream",
     "text": [
      "bash: connect: Connection refused\n",
      "bash: line 1: /dev/tcp/localhost/4444: Connection refused\n",
      "Waiting for Selenium...\n",
      "09:48:55.929 INFO [LoggingOptions.configureLogEncoding] - Using the system default encoding\n",
      "09:48:55.936 INFO [OpenTelemetryTracer.createTracer] - Using OpenTelemetry for tracing\n",
      "\n",
      "   INFO  Server running on [http://127.0.0.1:8888].  \n",
      "\n",
      "  Press Ctrl+C to stop the server\n",
      "\n",
      "09:48:56.684 INFO [NodeOptions.getSessionFactories] - Detected 6 available processors\n",
      "09:48:56.691 INFO [NodeOptions.discoverDrivers] - Looking for existing drivers on the PATH.\n",
      "09:48:56.695 INFO [NodeOptions.discoverDrivers] - Add '--selenium-manager true' to the startup command to setup drivers automatically.\n",
      "bash: connect: Connection refused\n",
      "bash: line 1: /dev/tcp/localhost/4444: Connection refused\n",
      "Waiting for Selenium...\n",
      "09:48:57.015 WARN [SeleniumManager.lambda$runCommand$1] - Exception managing chrome: Unable to discover proper chromedriver version in offline mode\n",
      "09:48:57.115 WARN [SeleniumManager.lambda$runCommand$1] - Unable to discover proper msedgedriver version in offline mode\n",
      "09:48:57.211 WARN [SeleniumManager.lambda$runCommand$1] - Unable to discover proper geckodriver version in offline mode\n",
      "09:48:57.246 INFO [NodeOptions.report] - Adding Chrome for {\"browserName\": \"chrome\",\"platformName\": \"linux\"} 6 times\n",
      "09:48:57.283 INFO [Node.<init>] - Binding additional locator mechanisms: relative\n",
      "09:48:57.320 INFO [GridModel.setAvailability] - Switching Node 671be9bb-3dbc-4c53-bb95-d0edfe272d42 (uri: http://172.17.0.1:4444) from DOWN to UP\n",
      "09:48:57.323 INFO [LocalDistributor.add] - Added node 671be9bb-3dbc-4c53-bb95-d0edfe272d42 at http://172.17.0.1:4444. Health check every 120s\n",
      "09:48:57.467 INFO [Standalone.execute] - Started Selenium Standalone 4.18.0 (revision b6bf9de7cc): http://172.17.0.1:4444\n"
     ]
    }
   ],
   "source": [
    "! while ! timeout 1 bash -c \"echo > /dev/tcp/localhost/4444\"; do echo \"Waiting for Selenium...\"; sleep 1; done"
   ]
  },
  {
   "cell_type": "code",
   "execution_count": 22,
   "metadata": {},
   "outputs": [],
   "source": [
    "! while ! timeout 1 bash -c \"echo > /dev/tcp/localhost/8888\"; do echo \"Waiting for App...\"; sleep 1; done"
   ]
  },
  {
   "cell_type": "code",
   "execution_count": 23,
   "metadata": {},
   "outputs": [
    {
     "name": "stdout",
     "output_type": "stream",
     "text": [
      "  2024-06-19 09:48:58 ................................................... ~ 0s\n",
      "Codeception PHP Testing Framework v5.1.2 https://stand-with-ukraine.pp.ua\n",
      "\n",
      "\u001b[1mTestsCodeception.Acceptance Tests (5) \u001b[22m------------------------------------------\n",
      "- \u001b[35;1mTest00_HomepageCest:\u001b[39;22m See Laravel links on homepage09:49:01.882 INFO [LocalDistributor.newSession] - Session request received by the Distributor: \n",
      " [Capabilities {browserName: chrome}]\n",
      "09:49:04.119 INFO [LocalNode.newSession] - Session created by the Node. Id: 805a4c10cfd1c5b7feac97d54f36ea11, Caps: Capabilities {acceptInsecureCerts: false, browserName: chrome, browserVersion: 121.0.6167.184, chrome: {chromedriverVersion: 121.0.6167.184 (057a8ae7deb..., userDataDir: /tmp/.org.chromium.Chromium...}, fedcm:accounts: true, goog:chromeOptions: {debuggerAddress: localhost:42723}, networkConnectionEnabled: false, pageLoadStrategy: normal, platformName: linux, proxy: Proxy(), se:bidiEnabled: false, se:cdp: ws://172.17.0.1:4444/sessio..., se:cdpVersion: 121.0.6167.184, setWindowRect: true, strictFileInteractability: false, timeouts: {implicit: 0, pageLoad: 300000, script: 30000}, unhandledPromptBehavior: dismiss and notify, webauthn:extension:credBlob: true, webauthn:extension:largeBlob: true, webauthn:extension:minPinLength: true, webauthn:extension:prf: true, webauthn:virtualAuthenticators: true}\n",
      "09:49:04.182 INFO [LocalDistributor.newSession] - Session created by the Distributor. Id: 805a4c10cfd1c5b7feac97d54f36ea11 \n",
      " Caps: Capabilities {acceptInsecureCerts: false, browserName: chrome, browserVersion: 121.0.6167.184, chrome: {chromedriverVersion: 121.0.6167.184 (057a8ae7deb..., userDataDir: /tmp/.org.chromium.Chromium...}, fedcm:accounts: true, goog:chromeOptions: {debuggerAddress: localhost:42723}, networkConnectionEnabled: false, pageLoadStrategy: normal, platformName: linux, proxy: Proxy(), se:bidiEnabled: false, se:cdp: ws://172.17.0.1:4444/sessio..., se:cdpVersion: 121.0.6167.184, setWindowRect: true, strictFileInteractability: false, timeouts: {implicit: 0, pageLoad: 300000, script: 30000}, unhandledPromptBehavior: dismiss and notify, webauthn:extension:credBlob: true, webauthn:extension:largeBlob: true, webauthn:extension:minPinLength: true, webauthn:extension:prf: true, webauthn:virtualAuthenticators: true}\n",
      "  2024-06-19 09:49:06 .................................................. ~ -1s\n",
      "  2024-06-19 09:49:07 /favicon.ico ...................................... ~ 0s\n",
      "\u001b[32;1m✔\u001b[39;22m \u001b[35;1mTest00_HomepageCest:\u001b[39;22m See Laravel links on homepage\u001b[32m(1.94s)\u001b[39m\n",
      "- \u001b[35;1mTest01_CommentsCest:\u001b[39;22m See comments from DB displayed on page  2024-06-19 09:49:11 ................................................... ~ 0s\n",
      "  2024-06-19 09:49:11 /build/assets/app-BJFZEaIV.css .................... ~ 0s\n",
      "  2024-06-19 09:49:11 /build/assets/app-CrG2wnyX.js ..................... ~ 0s\n",
      "  2024-06-19 09:49:11 /favicon.ico ...................................... ~ 0s\n",
      "  2024-06-19 09:49:12 ................................................... ~ 0s\n",
      "  2024-06-19 09:49:12 /build/assets/app-BJFZEaIV.css .................... ~ 0s\n",
      "  2024-06-19 09:49:12 /build/assets/app-CrG2wnyX.js ..................... ~ 0s\n",
      "  2024-06-19 09:49:12 /favicon.ico ...................................... ~ 0s\n",
      "\u001b[32;1m✔\u001b[39;22m \u001b[35;1mTest01_CommentsCest:\u001b[39;22m See comments from DB displayed on page\u001b[32m(2.45s)\u001b[39m\n",
      "- \u001b[35;1mTest02_LoginCest:\u001b[39;22m Login with existing user  2024-06-19 09:49:20 ................................................... ~ 0s\n",
      "  2024-06-19 09:49:20 .................................................. ~ -1s\n",
      "  2024-06-19 09:49:21 /build/assets/app-BJFZEaIV.css .................... ~ 0s\n",
      "  2024-06-19 09:49:21 /build/assets/app-CrG2wnyX.js ..................... ~ 0s\n",
      "  2024-06-19 09:49:21 /favicon.ico ...................................... ~ 0s\n",
      "  2024-06-19 09:49:22 ................................................... ~ 0s\n",
      "  2024-06-19 09:49:22 ................................................... ~ 0s\n",
      "  2024-06-19 09:49:22 /build/assets/app-BJFZEaIV.css .................... ~ 0s\n",
      "  2024-06-19 09:49:22 /build/assets/app-CrG2wnyX.js ..................... ~ 0s\n",
      "\u001b[32;1m✔\u001b[39;22m \u001b[35;1mTest02_LoginCest:\u001b[39;22m Login with existing user\u001b[32m(2.52s)\u001b[39m\n",
      "  2024-06-19 09:49:23 /favicon.ico ...................................... ~ 0s\n",
      "- \u001b[35;1mTest03_EventCest:\u001b[39;22m Login on dashboard  2024-06-19 09:49:25 ................................................... ~ 0s\n",
      "  2024-06-19 09:49:25 ................................................... ~ 0s\n",
      "  2024-06-19 09:49:25 /build/assets/app-BJFZEaIV.css .................... ~ 0s\n",
      "  2024-06-19 09:49:25 /build/assets/app-CrG2wnyX.js ..................... ~ 0s\n",
      "  2024-06-19 09:49:26 /favicon.ico ...................................... ~ 0s\n",
      "  2024-06-19 09:49:27 ................................................... ~ 0s\n",
      "  2024-06-19 09:49:27 ................................................... ~ 0s\n",
      "  2024-06-19 09:49:27 /build/assets/app-BJFZEaIV.css .................... ~ 0s\n",
      "  2024-06-19 09:49:27 /build/assets/app-CrG2wnyX.js ..................... ~ 0s\n",
      "  2024-06-19 09:49:27 /favicon.ico ...................................... ~ 0s\n",
      "  2024-06-19 09:49:27 ................................................... ~ 0s\n",
      "  2024-06-19 09:49:27 /build/assets/app-BJFZEaIV.css .................... ~ 0s\n",
      "  2024-06-19 09:49:27 /build/assets/app-CrG2wnyX.js ..................... ~ 0s\n",
      "  2024-06-19 09:49:27 /favicon.ico ...................................... ~ 0s\n",
      "  2024-06-19 09:49:28 ................................................... ~ 0s\n",
      "  2024-06-19 09:49:28 /build/assets/app-BJFZEaIV.css .................... ~ 0s\n",
      "  2024-06-19 09:49:28 /build/assets/app-CrG2wnyX.js ..................... ~ 0s\n",
      "  2024-06-19 09:49:28 /favicon.ico ...................................... ~ 0s\n",
      "  2024-06-19 09:49:30 ................................................... ~ 0s\n",
      "  2024-06-19 09:49:30 .................................................. ~ -1s\n",
      "  2024-06-19 09:49:31 /build/assets/app-BJFZEaIV.css .................... ~ 0s\n",
      "  2024-06-19 09:49:31 /build/assets/app-CrG2wnyX.js ..................... ~ 0s\n",
      "  2024-06-19 09:49:31 /favicon.ico ...................................... ~ 0s\n",
      "  2024-06-19 09:49:32 ................................................... ~ 0s\n",
      "  2024-06-19 09:49:32 /build/assets/app-BJFZEaIV.css .................... ~ 0s\n",
      "  2024-06-19 09:49:32 /build/assets/app-CrG2wnyX.js ..................... ~ 0s\n",
      "  2024-06-19 09:49:32 /favicon.ico ...................................... ~ 0s\n",
      "  2024-06-19 09:49:33 ................................................... ~ 0s\n",
      "  2024-06-19 09:49:33 /build/assets/app-BJFZEaIV.css .................... ~ 0s\n",
      "  2024-06-19 09:49:33 /build/assets/app-CrG2wnyX.js ..................... ~ 0s\n",
      "  2024-06-19 09:49:33 /favicon.ico ...................................... ~ 0s\n",
      "  2024-06-19 09:49:33 ................................................... ~ 0s\n",
      "  2024-06-19 09:49:33 /build/assets/app-BJFZEaIV.css .................... ~ 0s\n",
      "  2024-06-19 09:49:33 /build/assets/app-CrG2wnyX.js ..................... ~ 0s\n",
      "  2024-06-19 09:49:34 /favicon.ico ...................................... ~ 0s\n",
      "  2024-06-19 09:49:35 ................................................... ~ 0s\n",
      "  2024-06-19 09:49:35 .................................................. ~ -1s\n",
      "  2024-06-19 09:49:36 /build/assets/app-BJFZEaIV.css .................... ~ 0s\n",
      "  2024-06-19 09:49:36 /build/assets/app-CrG2wnyX.js ..................... ~ 0s\n",
      "  2024-06-19 09:49:36 /favicon.ico ...................................... ~ 0s\n",
      "\u001b[32;1m✔\u001b[39;22m \u001b[35;1mTest03_EventCest:\u001b[39;22m Login on dashboard\u001b[32m(11.51s)\u001b[39m\n",
      "  2024-06-19 09:49:36 ................................................... ~ 0s\n",
      "  2024-06-19 09:49:36 .................................................. ~ -1s\n",
      "  2024-06-19 09:49:37 /build/assets/app-BJFZEaIV.css .................... ~ 0s\n",
      "  2024-06-19 09:49:37 /build/assets/app-CrG2wnyX.js ..................... ~ 0s\n",
      "  2024-06-19 09:49:37 /favicon.ico ...................................... ~ 0s\n",
      "- \u001b[35;1mTest04_IntrestedAndParticipantCest:\u001b[39;22m Login on dashboard  2024-06-19 09:49:39 ................................................... ~ 0s\n",
      "  2024-06-19 09:49:39 ................................................... ~ 0s\n",
      "  2024-06-19 09:49:39 /build/assets/app-BJFZEaIV.css .................... ~ 0s\n",
      "  2024-06-19 09:49:39 /build/assets/app-CrG2wnyX.js ..................... ~ 0s\n",
      "  2024-06-19 09:49:39 /favicon.ico ...................................... ~ 0s\n",
      "  2024-06-19 09:49:40 .................................................. ~ -1s\n",
      "  2024-06-19 09:49:41 ................................................... ~ 0s\n",
      "  2024-06-19 09:49:41 /build/assets/app-BJFZEaIV.css .................... ~ 0s\n",
      "  2024-06-19 09:49:41 /build/assets/app-CrG2wnyX.js ..................... ~ 0s\n",
      "  2024-06-19 09:49:41 /favicon.ico ...................................... ~ 0s\n",
      "  2024-06-19 09:49:41 ................................................... ~ 0s\n",
      "  2024-06-19 09:49:41 /build/assets/app-BJFZEaIV.css .................... ~ 0s\n",
      "  2024-06-19 09:49:41 /build/assets/app-CrG2wnyX.js ..................... ~ 0s\n",
      "  2024-06-19 09:49:42 /favicon.ico ...................................... ~ 0s\n",
      "  2024-06-19 09:49:42 ................................................... ~ 0s\n",
      "  2024-06-19 09:49:42 /build/assets/app-BJFZEaIV.css .................... ~ 0s\n",
      "  2024-06-19 09:49:42 /build/assets/app-CrG2wnyX.js ..................... ~ 0s\n",
      "  2024-06-19 09:49:42 /favicon.ico ...................................... ~ 0s\n",
      "  2024-06-19 09:49:44 ................................................... ~ 0s\n",
      "  2024-06-19 09:49:44 ................................................... ~ 0s\n",
      "  2024-06-19 09:49:44 /build/assets/app-BJFZEaIV.css .................... ~ 0s\n",
      "  2024-06-19 09:49:44 /build/assets/app-CrG2wnyX.js ..................... ~ 0s\n",
      "  2024-06-19 09:49:44 ................................................... ~ 0s\n",
      "  2024-06-19 09:49:44 /favicon.ico ...................................... ~ 0s\n",
      "  2024-06-19 09:49:44 /build/assets/app-BJFZEaIV.css .................... ~ 0s\n",
      "  2024-06-19 09:49:44 /build/assets/app-CrG2wnyX.js ..................... ~ 0s\n",
      "  2024-06-19 09:49:44 /favicon.ico ...................................... ~ 0s\n",
      "  2024-06-19 09:49:45 ................................................... ~ 0s\n",
      "  2024-06-19 09:49:45 /build/assets/app-BJFZEaIV.css .................... ~ 0s\n",
      "  2024-06-19 09:49:45 /build/assets/app-CrG2wnyX.js ..................... ~ 0s\n",
      "  2024-06-19 09:49:45 /favicon.ico ...................................... ~ 0s\n",
      "  2024-06-19 09:49:45 ................................................... ~ 0s\n",
      "  2024-06-19 09:49:45 /build/assets/app-BJFZEaIV.css ................... ~ -1s\n",
      "  2024-06-19 09:49:46 /build/assets/app-CrG2wnyX.js ..................... ~ 0s\n",
      "  2024-06-19 09:49:46 /favicon.ico ...................................... ~ 0s\n",
      "  2024-06-19 09:49:46 ................................................... ~ 0s\n",
      "  2024-06-19 09:49:46 .................................................. ~ -1s\n",
      "  2024-06-19 09:49:47 /favicon.ico ...................................... ~ 0s\n",
      "\u001b[31;1m✖\u001b[39;22m \u001b[35;1mTest04_IntrestedAndParticipantCest:\u001b[39;22m Login on dashboard\u001b[32m(7.14s)\u001b[39m\n",
      "09:50:08.053 INFO [LocalSessionMap.lambda$new$0] - Deleted session from local Session Map, Id: 805a4c10cfd1c5b7feac97d54f36ea11\n",
      "09:50:08.059 INFO [GridModel.release] - Releasing slot for session id 805a4c10cfd1c5b7feac97d54f36ea11\n",
      "09:50:08.060 INFO [SessionSlot.stop] - Stopping session 805a4c10cfd1c5b7feac97d54f36ea11\n",
      "--------------------------------------------------------------------------------\n",
      "Time: 01:08.747, Memory: 18.00 MB\n",
      "\n",
      "There was 1 failure:\n",
      "1) \u001b[35;1mTest04_IntrestedAndParticipantCest:\u001b[39;22m Login on dashboard\n",
      "\u001b[37;41;1m Test  \u001b[39;49;22mtests_codeception/Acceptance/Test04_IntrestedAndParticipantCest.php:test\n",
      "\u001b[37;41;1m Step \u001b[39;49;22m See in database \"participants\",{\"event_id\":1}\n",
      "\u001b[37;41;1m Fail \u001b[39;49;22m No matching records found for criteria {\"event_id\":1} in table participants\n",
      "Failed asserting that 0 is greater than 0.\n",
      "\u001b[33m\n",
      "Scenario Steps:\n",
      "\u001b[39m\n",
      "\u001b[1m 18. $I->seeInDatabase(\"participants\",{\"event_id\":1})\u001b[22m at \u001b[32mtests_codeception/Acceptance/Test04_IntrestedAndParticipantCest.php:50\u001b[39m\n",
      " 17. $I->click(\"Interested\") at \u001b[32mtests_codeception/Acceptance/Test04_IntrestedAndParticipantCest.php:48\u001b[39m\n",
      " 16. $I->amOnPage(\"/events/1\") at \u001b[32mtests_codeception/Acceptance/Test04_IntrestedAndParticipantCest.php:46\u001b[39m\n",
      " 15. $I->click(\"Details\") at \u001b[32mtests_codeception/Acceptance/Test04_IntrestedAndParticipantCest.php:44\u001b[39m\n",
      " 14. $I->amOnPage(\"/events\") at \u001b[32mtests_codeception/Acceptance/Test04_IntrestedAndParticipantCest.php:42\u001b[39m\n",
      " 13. $I->grabFromDatabase(\"events\",\"id\",{\"name\":\"eventName\"}) at \u001b[32mtests_codeception/Acceptance/Test04_IntrestedAndParticipantCest.php:40\u001b[39m\n",
      "\n",
      "\u001b[33mArtifacts:\u001b[39m\n",
      "\n",
      "Png: \u001b[36m/home/student/php_2024_sportowa_aplikacja/09_laravel_tdd/project/tests_codeception/_output/TestsCodeception.Acceptance.Test04.IntrestedAndParticipantCest.test.fail.png\u001b[39m\n",
      "Html: \u001b[36m/home/student/php_2024_sportowa_aplikacja/09_laravel_tdd/project/tests_codeception/_output/TestsCodeception.Acceptance.Test04.IntrestedAndParticipantCest.test.fail.html\u001b[39m\n",
      "\n",
      "\u001b[37;41;1mFAILURES!\u001b[39;49;22m\n",
      "\u001b[37;41;1mTests: 5, Assertions: 45, Failures: 1.\u001b[39;49;22m\n"
     ]
    }
   ],
   "source": [
    "! vendor/bin/codecept run"
   ]
  },
  {
   "cell_type": "markdown",
   "metadata": {},
   "source": [
    "Edit the code:"
   ]
  },
  {
   "cell_type": "code",
   "execution_count": null,
   "metadata": {},
   "outputs": [
    {
     "name": "stdout",
     "output_type": "stream",
     "text": [
      "CompileCommand: exclude com/intellij/openapi/vfs/impl/FilePartNodeRoot.trieDescend bool exclude = true\n",
      "2024-06-19 09:50:10,792 [   1248]   WARN - #c.i.s.ComponentManagerImpl - `preload=true` must be used only for core services (service=com.intellij.ae.database.core.baseEvents.fus.AddStatisticsEventLogListenerTemporary, plugin=com.jetbrains.ae.database)\n",
      "2024-06-19 09:50:10,793 [   1249]   WARN - #c.i.s.ComponentManagerImpl - `preload=true` must be used only for core services (service=com.jetbrains.rdserver.statistics.BackendStatisticsManager, plugin=com.jetbrains.codeWithMe)\n",
      "2024-06-19 09:50:11,565 [   2021]   WARN - #c.i.s.ComponentManagerImpl - com.intellij.psi.search.FilenameIndex initializer requests com.intellij.ide.plugins.PluginUtil instance\n",
      "2024-06-19 09:50:12,878 [   3334]   WARN - #c.i.s.ComponentManagerImpl - com.intellij.lang.javascript.psi.jsdoc.impl.JSDocCustomTags initializer requests com.intellij.lang.javascript.JSDisposable instance\n",
      "2024-06-19 09:50:14,086 [   4542]   WARN - #c.i.s.ComponentManagerImpl - com.intellij.psi.LanguageSubstitutors initializer requests com.intellij.psi.LanguageSubstitutors instance\n",
      "2024-06-19 09:50:14,089 [   4545]   WARN - #c.i.s.ComponentManagerImpl - org.zmlx.hg4idea.provider.HgChangeProvider initializer requests com.intellij.openapi.vcs.FileStatusFactory instance\n",
      "2024-06-19 09:50:16,067 [   6523]   WARN - #c.i.s.ComponentManagerImpl - com.intellij.psi.codeStyle.CodeStyleSettingsCustomizable initializer requests com.intellij.util.LocaleSensitiveApplicationCacheService instance\n",
      "2024-06-19 09:50:16,293 [   6749]   WARN - #c.i.o.v.n.p.d.e.DurableEnumeratorFactory - [enumerator.mmapped]: .valueToId map is out-of-sync with .valuesLog data -> rebuilding it\n",
      "2024-06-19 09:50:17,225 [   7681]   WARN - #o.j.p.t.TextMateService - Cannot find referenced file `./language-configuration.json` in bundle `/opt/PhpStorm-233.14475.35/plugins/textmate/lib/bundles/mdx`\n",
      "2024-06-19 09:50:18,364 [   8820]   WARN - #c.i.o.a.i.ActionUpdater - 541 ms to grab EDT for ToolWindowHeader$2#Update@ToolwindowTitle (com.intellij.toolWindow.ToolWindowHeader$2)\n",
      "2024-06-19 09:50:19,111 [   9567]   WARN - #c.i.o.a.i.ActionUpdater - 745 ms to grab EDT for ToolWindowHeader$2#GetChildren@ToolwindowTitle (com.intellij.toolWindow.ToolWindowHeader$2)\n",
      "2024-06-19 09:50:19,380 [   9836]   WARN - #c.i.o.a.i.ActionUpdater - 586 ms to grab EDT for FontEditorPreview$ToggleBoldFontAction#Update@ContextToolbar (com.intellij.application.options.colors.FontEditorPreview$ToggleBoldFontAction)\n",
      "2024-06-19 09:50:19,381 [   9837]   WARN - #c.i.o.a.i.ActionUpdater - 583 ms to grab EDT for FontEditorPreview$RestorePreviewTextAction#Update@ContextToolbar (com.intellij.application.options.colors.FontEditorPreview$RestorePreviewTextAction)\n",
      "2024-06-19 09:50:19,501 [   9957]   WARN - #c.i.o.a.i.ActionUpdater - 358 ms to grab EDT for DockToolWindowAction#Update@ToolwindowTitle (com.intellij.openapi.wm.impl.DockToolWindowAction)\n",
      "2024-06-19 09:50:19,504 [   9960]   WARN - #c.i.o.a.i.ActionUpdater - 357 ms to grab EDT for CollapseAllAction#Update@ToolwindowTitle (com.intellij.ide.actions.CollapseAllAction)\n",
      "2024-06-19 09:50:19,507 [   9963]   WARN - #c.i.o.a.i.ActionUpdater - 353 ms to grab EDT for ExpandAllAction#Update@ToolwindowTitle (com.intellij.ide.actions.ExpandAllAction)\n",
      "2024-06-19 09:50:19,730 [  10186]   WARN - #c.i.i.s.p.i.BundledSharedIndexPostStartupActivity - Skipped 1 pre-built shared indexes: bundled-js-predefined-1d06a55b98c1-985749b364ce-JavaScript-PS-233.14475.35\n",
      "2024-06-19 09:50:20,634 [  11090]   WARN - #c.i.u.x.Binding - no accessors for com.jetbrains.php.testFramework.PhpTestFrameworkType\n",
      "2024-06-19 09:50:21,135 [  11591]   WARN - #c.i.i.s.i.StartupManagerImpl - Migrate com.jetbrains.php.tools.quality.psalm.PsalmSettingsTransferStartupActivity to ProjectActivity [Plugin: com.intellij.php.psalm]\n",
      "com.intellij.diagnostic.PluginException: Migrate com.jetbrains.php.tools.quality.psalm.PsalmSettingsTransferStartupActivity to ProjectActivity [Plugin: com.intellij.php.psalm]\n",
      "\tat com.intellij.ide.startup.impl.StartupManagerImpl.runPostStartupActivities(StartupManagerImpl.kt:277)\n",
      "\tat com.intellij.ide.startup.impl.StartupManagerImpl.access$runPostStartupActivities(StartupManagerImpl.kt:69)\n",
      "\tat com.intellij.ide.startup.impl.StartupManagerImpl$runPostStartupActivities$3$2.invokeSuspend(StartupManagerImpl.kt:192)\n",
      "\tat com.intellij.ide.startup.impl.StartupManagerImpl$runPostStartupActivities$3$2.invoke(StartupManagerImpl.kt)\n",
      "\tat com.intellij.ide.startup.impl.StartupManagerImpl$runPostStartupActivities$3$2.invoke(StartupManagerImpl.kt)\n",
      "\tat kotlinx.coroutines.intrinsics.UndispatchedKt.startUndispatchedOrReturn(Undispatched.kt:78)\n",
      "\tat kotlinx.coroutines.BuildersKt__Builders_commonKt.withContext(Builders.common.kt:167)\n",
      "\tat kotlinx.coroutines.BuildersKt.withContext(Unknown Source)\n",
      "\tat com.intellij.ide.startup.impl.StartupManagerImpl$runPostStartupActivities$3.invokeSuspend(StartupManagerImpl.kt:191)\n",
      "\tat kotlin.coroutines.jvm.internal.BaseContinuationImpl.resumeWith(ContinuationImpl.kt:33)\n",
      "\tat kotlinx.coroutines.DispatchedTask.run(DispatchedTask.kt:108)\n",
      "\tat kotlinx.coroutines.scheduling.CoroutineScheduler.runSafely(CoroutineScheduler.kt:584)\n",
      "\tat kotlinx.coroutines.scheduling.CoroutineScheduler$Worker.executeTask(CoroutineScheduler.kt:793)\n",
      "\tat kotlinx.coroutines.scheduling.CoroutineScheduler$Worker.runWorker(CoroutineScheduler.kt:697)\n",
      "\tat kotlinx.coroutines.scheduling.CoroutineScheduler$Worker.run(CoroutineScheduler.kt:684)\n",
      "2024-06-19 09:50:21,143 [  11599]   WARN - #c.i.o.a.i.ActionUpdater - 980 ms to grab EDT for ToolWindowHeader$2#Update@ToolwindowTitle (com.intellij.toolWindow.ToolWindowHeader$2)\n",
      "2024-06-19 09:50:21,151 [  11607]   WARN - #c.i.i.s.i.StartupManagerImpl - Migrate com.jetbrains.php.tools.quality.phpstan.PhpStanSettingsTransferStartupActivity to ProjectActivity [Plugin: com.intellij.php.tools.quality.phpstan]\n",
      "com.intellij.diagnostic.PluginException: Migrate com.jetbrains.php.tools.quality.phpstan.PhpStanSettingsTransferStartupActivity to ProjectActivity [Plugin: com.intellij.php.tools.quality.phpstan]\n",
      "\tat com.intellij.ide.startup.impl.StartupManagerImpl.runPostStartupActivities(StartupManagerImpl.kt:277)\n",
      "\tat com.intellij.ide.startup.impl.StartupManagerImpl.access$runPostStartupActivities(StartupManagerImpl.kt:69)\n",
      "\tat com.intellij.ide.startup.impl.StartupManagerImpl$runPostStartupActivities$3$2.invokeSuspend(StartupManagerImpl.kt:192)\n",
      "\tat com.intellij.ide.startup.impl.StartupManagerImpl$runPostStartupActivities$3$2.invoke(StartupManagerImpl.kt)\n",
      "\tat com.intellij.ide.startup.impl.StartupManagerImpl$runPostStartupActivities$3$2.invoke(StartupManagerImpl.kt)\n",
      "\tat kotlinx.coroutines.intrinsics.UndispatchedKt.startUndispatchedOrReturn(Undispatched.kt:78)\n",
      "\tat kotlinx.coroutines.BuildersKt__Builders_commonKt.withContext(Builders.common.kt:167)\n",
      "\tat kotlinx.coroutines.BuildersKt.withContext(Unknown Source)\n",
      "\tat com.intellij.ide.startup.impl.StartupManagerImpl$runPostStartupActivities$3.invokeSuspend(StartupManagerImpl.kt:191)\n",
      "\tat kotlin.coroutines.jvm.internal.BaseContinuationImpl.resumeWith(ContinuationImpl.kt:33)\n",
      "\tat kotlinx.coroutines.DispatchedTask.run(DispatchedTask.kt:108)\n",
      "\tat kotlinx.coroutines.scheduling.CoroutineScheduler.runSafely(CoroutineScheduler.kt:584)\n",
      "\tat kotlinx.coroutines.scheduling.CoroutineScheduler$Worker.executeTask(CoroutineScheduler.kt:793)\n",
      "\tat kotlinx.coroutines.scheduling.CoroutineScheduler$Worker.runWorker(CoroutineScheduler.kt:697)\n",
      "\tat kotlinx.coroutines.scheduling.CoroutineScheduler$Worker.run(CoroutineScheduler.kt:684)\n",
      "2024-06-19 09:50:21,441 [  11897]   WARN - #c.i.o.a.i.ActionUpdater - 788 ms to grab EDT for FontEditorPreview$RestorePreviewTextAction#Update@ContextToolbar (com.intellij.application.options.colors.FontEditorPreview$RestorePreviewTextAction)\n",
      "2024-06-19 09:50:21,442 [  11898]   WARN - #c.i.o.a.i.ActionUpdater - 789 ms to grab EDT for FontEditorPreview$ToggleBoldFontAction#Update@ContextToolbar (com.intellij.application.options.colors.FontEditorPreview$ToggleBoldFontAction)\n",
      "2024-06-19 09:50:21,891 [  12347]   WARN - #c.i.o.a.i.ActionUpdater - 736 ms to grab EDT for JoinCallAction#Update@MainToolbar (com.jetbrains.rd.platform.codeWithMe.telephony.JoinCallAction)\n",
      "2024-06-19 09:50:21,893 [  12349]   WARN - #c.i.o.a.i.ActionUpdater - 748 ms to grab EDT for ToolWindowHeader$2#GetChildren@ToolwindowTitle (com.intellij.toolWindow.ToolWindowHeader$2)\n",
      "2024-06-19 09:50:22,145 [  12601]   WARN - #c.i.s.ComponentManagerImpl - com.intellij.database.console.session.DatabaseSessionManager initializer requests com.intellij.database.console.session.DatabaseSessionViewService instance\n",
      "2024-06-19 09:50:22,604 [  13060]   WARN - #c.i.o.a.i.ActionUpdater - 709 ms to grab EDT for DockToolWindowAction#Update@ToolwindowTitle (com.intellij.openapi.wm.impl.DockToolWindowAction)\n",
      "2024-06-19 09:50:22,625 [  13081]   WARN - #c.i.o.a.i.ActionUpdater - 731 ms to grab EDT for ExpandAllAction#Update@ToolwindowTitle (com.intellij.ide.actions.ExpandAllAction)\n",
      "2024-06-19 09:50:22,627 [  13083]   WARN - #c.i.o.a.i.ActionUpdater - 732 ms to grab EDT for CollapseAllAction#Update@ToolwindowTitle (com.intellij.ide.actions.CollapseAllAction)\n",
      "2024-06-19 09:50:22,920 [  13376]   WARN - #c.i.o.a.i.ActionUpdater - 3901 ms total to grab EDT 5 times to expand ToolWindowHeader$2@ToolwindowTitle (com.intellij.toolWindow.ToolWindowHeader$2). Use `ActionUpdateThread.BGT`.\n",
      "2024-06-19 09:50:23,425 [  13881]   WARN - #c.i.o.a.i.ActionUpdater - 424 ms to grab EDT for ToolWindowHeader$2#Update@ToolwindowTitle (com.intellij.toolWindow.ToolWindowHeader$2)\n",
      "2024-06-19 09:50:23,427 [  13883]   WARN - #c.i.o.a.i.ActionUpdater - 421 ms to grab EDT for FontEditorPreview$ToggleBoldFontAction#Update@ContextToolbar (com.intellij.application.options.colors.FontEditorPreview$ToggleBoldFontAction)\n",
      "2024-06-19 09:50:23,428 [  13884]   WARN - #c.i.o.a.i.ActionUpdater - 417 ms to grab EDT for FontEditorPreview$RestorePreviewTextAction#Update@ContextToolbar (com.intellij.application.options.colors.FontEditorPreview$RestorePreviewTextAction)\n",
      "2024-06-19 09:50:23,429 [  13885]   WARN - #c.i.o.a.i.ActionUpdater - 418 ms to grab EDT for JoinCallAction#Update@MainToolbar (com.jetbrains.rd.platform.codeWithMe.telephony.JoinCallAction)\n",
      "2024-06-19 09:50:28,572 [  19028]   WARN - org.eclipse.lsp4j.jsonrpc.services.GenericEndpoint - Unsupported notification method: @/tailwindCSS/projectInitialized\n",
      "2024-06-19 09:50:29,973 [  20429]   WARN - org.eclipse.lsp4j.jsonrpc.services.GenericEndpoint - Unsupported notification method: @/tailwindCSS/projectInitialized\n",
      "2024-06-19 09:51:10,646 [  61102]   WARN - #c.i.u.x.Binding - no accessors for com.intellij.ide.util.TipsUsageManager$State\n",
      "2024-06-19 09:53:44,371 [ 214827]   WARN - #c.i.o.a.i.ActionUpdater - 1110 ms to grab EDT for EditorMarkupModelImpl$TrafficLightAction#Update@EditorInspectionsToolbar (com.intellij.openapi.editor.impl.EditorMarkupModelImpl$TrafficLightAction)\n",
      "2024-06-19 09:53:44,372 [ 214828]   WARN - #c.i.o.a.i.ActionUpdater - 1110 ms to grab EDT for EditorMarkupModelImpl$1#Update@EditorInspectionsToolbar (com.intellij.openapi.editor.impl.EditorMarkupModelImpl$1)\n",
      "2024-06-19 09:53:44,373 [ 214829]   WARN - #c.i.o.a.i.ActionUpdater - 1110 ms to grab EDT for FontEditorPreview$RestorePreviewTextAction#Update@ContextToolbar (com.intellij.application.options.colors.FontEditorPreview$RestorePreviewTextAction)\n",
      "2024-06-19 09:53:44,373 [ 214829]   WARN - #c.i.o.a.i.ActionUpdater - 1111 ms to grab EDT for FontEditorPreview$ToggleBoldFontAction#Update@ContextToolbar (com.intellij.application.options.colors.FontEditorPreview$ToggleBoldFontAction)\n",
      "2024-06-19 09:53:44,373 [ 214829]   WARN - #c.i.o.a.i.ActionUpdater - 1111 ms to grab EDT for ReviewModeActionGroup#Update@EditorInspectionsToolbar (org.jetbrains.plugins.gitlab.mergerequest.ui.editor.action.ReviewModeActionGroup)\n",
      "2024-06-19 09:53:44,375 [ 214831]   WARN - #c.i.o.a.i.ActionUpdater - 1109 ms to grab EDT for ToolWindowHeader$2#GetChildren@ToolwindowTitle (com.intellij.toolWindow.ToolWindowHeader$2)\n",
      "2024-06-19 09:53:44,381 [ 214837]   WARN - #c.i.o.a.i.ActionUpdater - 3332 ms total to grab EDT 3 times to expand DefaultActionGroup@EditorInspectionsToolbar (com.intellij.openapi.actionSystem.DefaultActionGroup). Use `ActionUpdateThread.BGT`.\n",
      "2024-06-19 10:00:28,320 [ 618776] SEVERE - com.jediterm.terminal.model.TerminalTextBuffer - Attempt to get line out of bounds: 5 >= 5\n",
      "2024-06-19 10:00:28,325 [ 618781] SEVERE - com.jediterm.terminal.model.TerminalTextBuffer - Attempt to get line out of bounds: 5 >= 5\n",
      "2024-06-19 10:00:28,328 [ 618784] SEVERE - com.jediterm.terminal.model.TerminalTextBuffer - Attempt to get line out of bounds: 5 >= 5\n",
      "2024-06-19 10:00:28,337 [ 618793] SEVERE - com.jediterm.terminal.model.TerminalTextBuffer - Attempt to get line out of bounds: 5 >= 5\n",
      "2024-06-19 10:00:49,557 [ 640013] SEVERE - com.jediterm.terminal.model.TerminalTextBuffer - Attempt to get line out of bounds: 5 >= 5\n",
      "2024-06-19 10:00:49,559 [ 640015] SEVERE - com.jediterm.terminal.model.TerminalTextBuffer - Attempt to get line out of bounds: 5 >= 5\n",
      "2024-06-19 10:02:51,299 [ 761755] SEVERE - com.jediterm.terminal.model.TerminalTextBuffer - Attempt to get line out of bounds: 5 >= 5\n",
      "2024-06-19 10:02:51,335 [ 761791] SEVERE - com.jediterm.terminal.model.TerminalTextBuffer - Attempt to get line out of bounds: 5 >= 5\n",
      "2024-06-19 10:03:01,287 [ 771743] SEVERE - com.jediterm.terminal.model.TerminalTextBuffer - Attempt to get line out of bounds: 5 >= 5\n",
      "2024-06-19 10:03:01,288 [ 771744] SEVERE - com.jediterm.terminal.model.TerminalTextBuffer - Attempt to get line out of bounds: 5 >= 5\n",
      "2024-06-19 10:18:00,504 [1670960]   WARN - #c.j.p.PhpIndex - Invalid Signature '\\callable<#ᢐ\\TRescueValue.>'\n",
      "2024-06-19 10:18:00,512 [1670968]   WARN - #c.j.p.PhpIndex - Invalid Signature '\\callable<>'\n",
      "2024-06-19 12:27:09,744 [9420200]   WARN - #c.i.s.ComponentManagerImpl - com.intellij.usages.UsageNodePresentation initializer requests com.intellij.usageView.UsageTreeColorsScheme instance\n",
      "2024-06-19 13:20:27,363 [12617819]   WARN - #c.j.p.PhpIndex - Invalid Signature '\\callable<#ᢐ\\TRescueValue.>'\n",
      "2024-06-19 13:20:27,364 [12617820]   WARN - #c.j.p.PhpIndex - Invalid Signature '\\callable<>'\n",
      "2024-06-19 13:29:45,075 [13175531]   WARN - #c.i.o.a.i.ActionUpdater - 701 ms to grab EDT for EditorSearchSession$4#GetChildren@EditorToolbar (com.intellij.find.EditorSearchSession$4)\n",
      "2024-06-19 13:45:54,633 [14145089]   WARN - #c.i.o.a.i.ActionUpdater - 526 ms to grab EDT for FontEditorPreview$RestorePreviewTextAction#Update@ContextToolbar (com.intellij.application.options.colors.FontEditorPreview$RestorePreviewTextAction)\n",
      "2024-06-19 13:45:54,633 [14145089]   WARN - #c.i.o.a.i.ActionUpdater - 527 ms to grab EDT for FontEditorPreview$ToggleBoldFontAction#Update@ContextToolbar (com.intellij.application.options.colors.FontEditorPreview$ToggleBoldFontAction)\n",
      "2024-06-19 13:47:37,452 [14247908]   WARN - #c.j.p.PhpIndex - Invalid Signature '\\array<#ᢐ\\TKey.,#ᢐ\\TValue.>'\n",
      "2024-06-19 13:48:14,854 [14285310]   WARN - #c.j.p.PhpIndex - Invalid Signature '\\Closure<,\\Laravel\\Prompts\\Progress<TSteps>,#ᢐ\\TReturn.>'\n",
      "2024-06-19 13:48:21,996 [14292452]   WARN - #c.j.p.PhpIndex - Invalid Signature '\\array<#ᢐ\\TKey.,#ᢐ\\TValue.>'\n",
      "2024-06-19 13:58:23,925 [14894381]   WARN - #c.j.p.PhpIndex - Invalid Signature '\n",
      "            ->select(\")'\n"
     ]
    }
   ],
   "source": [
    "! phpstorm ."
   ]
  },
  {
   "cell_type": "markdown",
   "metadata": {},
   "source": [
    "Stop the services:"
   ]
  },
  {
   "cell_type": "code",
   "execution_count": 27,
   "metadata": {},
   "outputs": [
    {
     "name": "stdout",
     "output_type": "stream",
     "text": [
      "php8.3: no process found\n"
     ]
    }
   ],
   "source": [
    "! killall php php8.3"
   ]
  },
  {
   "cell_type": "code",
   "execution_count": 28,
   "metadata": {},
   "outputs": [],
   "source": [
    "seleniumServer.kill()"
   ]
  },
  {
   "cell_type": "code",
   "execution_count": 29,
   "metadata": {},
   "outputs": [
    {
     "name": "stdout",
     "output_type": "stream",
     "text": [
      "/home/student/php_2024_sportowa_aplikacja/09_laravel_tdd\n"
     ]
    }
   ],
   "source": [
    "%cd .."
   ]
  },
  {
   "cell_type": "markdown",
   "metadata": {},
   "source": [
    "Stop database:"
   ]
  },
  {
   "cell_type": "code",
   "execution_count": 30,
   "metadata": {},
   "outputs": [
    {
     "name": "stdout",
     "output_type": "stream",
     "text": [
      "mysql\n"
     ]
    }
   ],
   "source": [
    "! docker container stop mysql"
   ]
  },
  {
   "cell_type": "code",
   "execution_count": null,
   "metadata": {},
   "outputs": [],
   "source": []
  }
 ],
 "metadata": {
  "kernelspec": {
   "display_name": "Python 3 (ipykernel)",
   "language": "python",
   "name": "python3"
  },
  "language_info": {
   "codemirror_mode": {
    "name": "ipython",
    "version": 3
   },
   "file_extension": ".py",
   "mimetype": "text/x-python",
   "name": "python",
   "nbconvert_exporter": "python",
   "pygments_lexer": "ipython3",
   "version": "3.11.5"
  }
 },
 "nbformat": 4,
 "nbformat_minor": 4
}
